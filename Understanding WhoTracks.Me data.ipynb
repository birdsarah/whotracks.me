{
 "cells": [
  {
   "cell_type": "code",
   "execution_count": 144,
   "metadata": {},
   "outputs": [],
   "source": [
    "%matplotlib inline\n",
    "\n",
    "import json\n",
    "import numpy as np\n",
    "import pandas as pd\n",
    "from os import listdir, path\n",
    "from collections import defaultdict, Counter\n",
    "from whotracksme.data import load_tracker_db, DataSource\n",
    "from whotracksme.data.db import create_tracker_map"
   ]
  },
  {
   "cell_type": "markdown",
   "metadata": {},
   "source": [
    "There are two parts:\n",
    "* A tracker database, which has a useful wrapper method create_tracker_map \n",
    "* A series of csvs in folders by month, and by region"
   ]
  },
  {
   "cell_type": "markdown",
   "metadata": {},
   "source": [
    "### The database"
   ]
  },
  {
   "cell_type": "code",
   "execution_count": 2,
   "metadata": {},
   "outputs": [
    {
     "data": {
      "text/plain": [
       "<sqlite3.Connection at 0x7f4b1c167030>"
      ]
     },
     "execution_count": 2,
     "metadata": {},
     "output_type": "execute_result"
    }
   ],
   "source": [
    "db = load_tracker_db()\n",
    "db"
   ]
  },
  {
   "cell_type": "code",
   "execution_count": 3,
   "metadata": {},
   "outputs": [
    {
     "data": {
      "text/plain": [
       "[('categories',),\n",
       " ('companies',),\n",
       " ('iab_vendors',),\n",
       " ('tracker_domains',),\n",
       " ('trackers',),\n",
       " ('truste_companies',),\n",
       " ('urls',)]"
      ]
     },
     "execution_count": 3,
     "metadata": {},
     "output_type": "execute_result"
    }
   ],
   "source": [
    "def list_tables_in_db(db):\n",
    "    return db.cursor().execute(\"SELECT name FROM sqlite_master WHERE type='table';\").fetchall()\n",
    "\n",
    "list_tables_in_db(db)"
   ]
  },
  {
   "cell_type": "code",
   "execution_count": 4,
   "metadata": {},
   "outputs": [
    {
     "data": {
      "text/plain": [
       "['google_analytics',\n",
       " 'doubleclick',\n",
       " 'google',\n",
       " 'googleapis.com',\n",
       " 'google_tag_manager']"
      ]
     },
     "execution_count": 4,
     "metadata": {},
     "output_type": "execute_result"
    }
   ],
   "source": [
    "tracker_info = create_tracker_map(db)\n",
    "list(tracker_info['trackers'].keys())[0:5]"
   ]
  },
  {
   "cell_type": "code",
   "execution_count": 5,
   "metadata": {
    "scrolled": false
   },
   "outputs": [
    {
     "data": {
      "text/plain": [
       "{'id': 'google_tag_manager',\n",
       " 'name': 'Google Tag Manager',\n",
       " 'category': 'essential',\n",
       " 'website_url': 'https://marketingplatform.google.com/about/tag-manager/',\n",
       " 'ghostery_id': '1283',\n",
       " 'company_id': 'google',\n",
       " 'iab_vendor': None,\n",
       " 'truste_type': None,\n",
       " 'description': None,\n",
       " 'privacy_url': 'http://www.google.com/intl/en/policies/privacy/',\n",
       " 'domains': ['googletagmanager.com', 'googletagservices.com']}"
      ]
     },
     "execution_count": 5,
     "metadata": {},
     "output_type": "execute_result"
    }
   ],
   "source": [
    "tracker_info['trackers']['google_tag_manager']"
   ]
  },
  {
   "cell_type": "code",
   "execution_count": 6,
   "metadata": {},
   "outputs": [
    {
     "data": {
      "text/plain": [
       "['adobe_login', 'runmewivel.com', 'turner', 'digital.gov', 'datatables']"
      ]
     },
     "execution_count": 6,
     "metadata": {},
     "output_type": "execute_result"
    }
   ],
   "source": [
    "list(tracker_info['trackers'].keys())[-5:]"
   ]
  },
  {
   "cell_type": "code",
   "execution_count": 7,
   "metadata": {},
   "outputs": [
    {
     "data": {
      "text/plain": [
       "{'id': 'turner',\n",
       " 'name': 'Turner',\n",
       " 'category': 'cdn',\n",
       " 'website_url': 'https://www.turner.com/',\n",
       " 'ghostery_id': None,\n",
       " 'company_id': 'turner',\n",
       " 'iab_vendor': None,\n",
       " 'truste_type': None,\n",
       " 'description': None,\n",
       " 'privacy_url': 'https://www.turner.com/legal#PrivacyPolicy',\n",
       " 'domains': ['turner.com']}"
      ]
     },
     "execution_count": 7,
     "metadata": {},
     "output_type": "execute_result"
    }
   ],
   "source": [
    "tracker_info['trackers']['turner']"
   ]
  },
  {
   "cell_type": "markdown",
   "metadata": {},
   "source": [
    "Interesting to note the ghostery_id in here\n",
    "\n",
    "### The data files"
   ]
  },
  {
   "cell_type": "code",
   "execution_count": 8,
   "metadata": {},
   "outputs": [
    {
     "name": "stdout",
     "output_type": "stream",
     "text": [
      "\u001b[0m\u001b[01;34m2017-05\u001b[0m/  \u001b[01;34m2017-08\u001b[0m/  \u001b[01;34m2017-11\u001b[0m/  \u001b[01;34m2018-02\u001b[0m/  \u001b[01;34m2018-05\u001b[0m/  \u001b[01;34m2018-08\u001b[0m/\r\n",
      "\u001b[01;34m2017-06\u001b[0m/  \u001b[01;34m2017-09\u001b[0m/  \u001b[01;34m2017-12\u001b[0m/  \u001b[01;34m2018-03\u001b[0m/  \u001b[01;34m2018-06\u001b[0m/  \u001b[01;34m2018-09\u001b[0m/\r\n",
      "\u001b[01;34m2017-07\u001b[0m/  \u001b[01;34m2017-10\u001b[0m/  \u001b[01;34m2018-01\u001b[0m/  \u001b[01;34m2018-04\u001b[0m/  \u001b[01;34m2018-07\u001b[0m/  trackerdb.sql\r\n"
     ]
    }
   ],
   "source": [
    "ls whotracksme/data/assets"
   ]
  },
  {
   "cell_type": "code",
   "execution_count": 9,
   "metadata": {},
   "outputs": [
    {
     "name": "stdout",
     "output_type": "stream",
     "text": [
      "\u001b[0m\u001b[01;34mde\u001b[0m/  \u001b[01;34meu\u001b[0m/  \u001b[01;34mfr\u001b[0m/  \u001b[01;34mglobal\u001b[0m/  \u001b[01;34mus\u001b[0m/\r\n"
     ]
    }
   ],
   "source": [
    "ls whotracksme/data/assets/2018-09/"
   ]
  },
  {
   "cell_type": "code",
   "execution_count": 10,
   "metadata": {},
   "outputs": [
    {
     "name": "stdout",
     "output_type": "stream",
     "text": [
      "\u001b[0m\u001b[01;34mglobal\u001b[0m/\r\n"
     ]
    }
   ],
   "source": [
    "ls whotracksme/data/assets/2017-05"
   ]
  },
  {
   "cell_type": "markdown",
   "metadata": {},
   "source": [
    "Not all directories have the data split out by country. To keep things comparable across months, I'm guessing I need to load in the data from all the geo directories and add together."
   ]
  },
  {
   "cell_type": "code",
   "execution_count": 11,
   "metadata": {},
   "outputs": [
    {
     "name": "stdout",
     "output_type": "stream",
     "text": [
      "companies.csv  domains.csv  sites.csv  sites_trackers.csv  trackers.csv\r\n"
     ]
    }
   ],
   "source": [
    "ls whotracksme/data/assets/2017-05/global/"
   ]
  },
  {
   "cell_type": "code",
   "execution_count": 12,
   "metadata": {},
   "outputs": [
    {
     "name": "stdout",
     "output_type": "stream",
     "text": [
      "companies.csv  domains.csv  sites.csv  sites_trackers.csv  trackers.csv\r\n"
     ]
    }
   ],
   "source": [
    "ls whotracksme/data/assets/2018-09/de/"
   ]
  },
  {
   "cell_type": "markdown",
   "metadata": {},
   "source": [
    "All directories have the same five tables. This is all consistent with their own readme.\n",
    "\n",
    "The data is created by aggregating data about page loads at several different levels. These aggregated stats are published in the following files:\n",
    "\n",
    "    domains.csv: Top third-party domains seen tracking.\n",
    "    trackers.csv: Top trackers - this combines domains known be operated by the same tracker.\n",
    "    companies.csv: Top companies - aggregates the stats for trackers owned by the same company.\n",
    "    sites.csv: Stats for number of trackers seen on popular websites.\n",
    "    site_trackers.csv: Stats for each tracker on each site.\n",
    "\n",
    "We calculate a standard set of signals across all aggregations:\n",
    "\n",
    "    cookies: Proportion of pages where a cookie was sent by the browser, or a Set-Cookie header was returned by the tracker's server. Float between 0 and 1.\n",
    "    bad_qs: Proportion of pages where a unique identifier was detected in the query string parameters sent with a request to this tracker. The methodology for this detection can be found in our paper. Float between 0 and 1.\n",
    "    tracked: Proportion of pages where a unique identifier transmission was detected, either via cookies or bad_qs. Float between 0 and 1.\n",
    "    https: Proportion of pages where the tracker only used HTTPS traffic. Float between 0 and 1.\n",
    "    requests: Average number of requests made to the tracker per page. Positive float.\n",
    "    requests_tracking: Average number of requests made to the tracker with tracking (cookie or query string) per page. Positive float.\n",
    "    content_length: Average of Content-Length headers received per page. This is an approximate measure of the bandwidth usage of the tracker. Positive float.\n",
    "    requests_failed: Average number of requests make to the tracker per page which do not succeed. This is an approximate measure of blocking from external sources (i.e. adblocking extensions or firewalls). Positive float.\n",
    "    has_blocking: Proportion of pages where some kind of external blocking of the tracker was detected. Float between 0 and 1.\n",
    "\n",
    "There are also signals for the frequency with which certain resource types are loaded by third-parties:\n",
    "\n",
    "    script: Javascript code (via a <script> tag or web worker).\n",
    "    iframe: A subdocument (via <frame> or <iframe> elements).\n",
    "    beacon: Requests sent through the Beacon API.\n",
    "    image: Image and imageset resources.\n",
    "    stylesheet: CSS files.\n",
    "    font: Custom fonts.\n",
    "    xhr: Requests made from scripts via the XMLHttpRequest or fetch APIs.\n",
    "    plugin: Requests of object or object_subrequest types, which are typically associated with browser plugins such as Flash.\n",
    "    media: Requests loaded via <video> or <audio> HTML elements.\n",
    "\n",
    "We also count the presences of other entities in the aggregation. This enables us to, for example, count how many of a tracker's domains they use simultaneously on average, or how many different trackers and companies are usually present on sites:\n",
    "\n",
    "    hosts\n",
    "    trackers\n",
    "    companies\n",
    "\n",
    "For domain, trackers and companies aggregations we also include two extra measures:\n",
    "\n",
    "    reach: Proportional presence across all page loads (i.e. if a tracker is present on 50 out of 1000 page loads, the reach would be 0.05). Value is a float between 0 and 1.\n",
    "    site_reach: Presence across unique first party sites. e.g. if a tracker is present on 10 sites, and we have 100 different sites in the database, the site reach is 0.1. Value is a float between 0 and 1.\n",
    "\n",
    "The files are organised monthly with the following structure: assets/{month}/{country}/{file}.csv"
   ]
  },
  {
   "cell_type": "code",
   "execution_count": 13,
   "metadata": {},
   "outputs": [],
   "source": [
    "asset_root = 'whotracksme/data/assets'\n",
    "regions = set()\n",
    "months = set()\n",
    "file_names = set()\n",
    "asset_paths = defaultdict(list)"
   ]
  },
  {
   "cell_type": "code",
   "execution_count": 14,
   "metadata": {},
   "outputs": [
    {
     "data": {
      "text/plain": [
       "{'2017-05',\n",
       " '2017-06',\n",
       " '2017-07',\n",
       " '2017-08',\n",
       " '2017-09',\n",
       " '2017-10',\n",
       " '2017-11',\n",
       " '2017-12',\n",
       " '2018-01',\n",
       " '2018-02',\n",
       " '2018-03',\n",
       " '2018-04',\n",
       " '2018-05',\n",
       " '2018-06',\n",
       " '2018-07',\n",
       " '2018-08',\n",
       " '2018-09'}"
      ]
     },
     "execution_count": 14,
     "metadata": {},
     "output_type": "execute_result"
    }
   ],
   "source": [
    "for d in listdir(asset_root):\n",
    "    if path.isdir(path.join(asset_root, d)):\n",
    "        months.add(d)\n",
    "months"
   ]
  },
  {
   "cell_type": "code",
   "execution_count": 15,
   "metadata": {},
   "outputs": [
    {
     "data": {
      "text/plain": [
       "{'de', 'eu', 'fr', 'global', 'us'}"
      ]
     },
     "execution_count": 15,
     "metadata": {},
     "output_type": "execute_result"
    }
   ],
   "source": [
    "for month in months:\n",
    "    month_path = path.join(asset_root, month)\n",
    "    for d in listdir(month_path):\n",
    "        if path.isdir(path.join(month_path, d)):\n",
    "            regions.add(d)\n",
    "regions"
   ]
  },
  {
   "cell_type": "code",
   "execution_count": 16,
   "metadata": {},
   "outputs": [
    {
     "data": {
      "text/plain": [
       "{'companies.csv',\n",
       " 'domains.csv',\n",
       " 'sites.csv',\n",
       " 'sites_trackers.csv',\n",
       " 'trackers.csv'}"
      ]
     },
     "execution_count": 16,
     "metadata": {},
     "output_type": "execute_result"
    }
   ],
   "source": [
    "for month in months:\n",
    "    for region in regions:\n",
    "        end_path = path.join(asset_root, month, region)\n",
    "        if path.isdir(end_path):\n",
    "            for file in listdir(end_path):\n",
    "                file_names.add(file)\n",
    "file_names"
   ]
  },
  {
   "cell_type": "code",
   "execution_count": 17,
   "metadata": {},
   "outputs": [
    {
     "name": "stdout",
     "output_type": "stream",
     "text": [
      "companies 42\n",
      "domains 42\n",
      "sites 84\n",
      "sites_trackers 42\n",
      "trackers 84\n"
     ]
    }
   ],
   "source": [
    "asset_types = ['companies', 'domains', 'sites', 'sites_trackers', 'trackers']\n",
    "for month in months:\n",
    "    for region in regions:\n",
    "        end_path = path.join(asset_root, month, region)\n",
    "        if path.isdir(end_path):\n",
    "            for file in listdir(end_path):\n",
    "                for asset_type in asset_types:\n",
    "                    if asset_type in file:\n",
    "                        asset_paths[asset_type].append(path.join(end_path, file))\n",
    "for asset_type in asset_types:\n",
    "    print(asset_type, len(asset_paths[asset_type]))"
   ]
  },
  {
   "cell_type": "code",
   "execution_count": 18,
   "metadata": {},
   "outputs": [
    {
     "name": "stdout",
     "output_type": "stream",
     "text": [
      "whotracksme/data/assets/2018-09/global/companies.csv 21,015\n",
      "whotracksme/data/assets/2018-09/global/domains.csv 37,606\n",
      "whotracksme/data/assets/2018-09/global/sites.csv 1,632,769\n",
      "whotracksme/data/assets/2018-09/global/sites_trackers.csv 1,573,799\n",
      "whotracksme/data/assets/2018-09/global/trackers.csv 1,599,747\n"
     ]
    }
   ],
   "source": [
    "for asset_type in asset_types:\n",
    "    file_lengths = []\n",
    "    for asset_path in asset_paths[asset_type]:\n",
    "        num_lines = sum(1 for line in open(asset_path))\n",
    "        file_lengths.append(num_lines)\n",
    "    print(asset_path, f'{sum(file_lengths):,}')"
   ]
  },
  {
   "cell_type": "code",
   "execution_count": 19,
   "metadata": {},
   "outputs": [],
   "source": [
    "domains_cols = [\n",
    "    pd.read_csv(file).columns\n",
    "    for file in asset_paths['domains']\n",
    "]"
   ]
  },
  {
   "cell_type": "code",
   "execution_count": 20,
   "metadata": {},
   "outputs": [
    {
     "data": {
      "text/plain": [
       "[22, 27, 37]"
      ]
     },
     "execution_count": 20,
     "metadata": {},
     "output_type": "execute_result"
    }
   ],
   "source": [
    "current = domains_cols[0]\n",
    "inconsistent = []\n",
    "for i, cols in enumerate(domains_cols):\n",
    "    if list(cols) != list(current):\n",
    "        inconsistent.append(i)\n",
    "    current = cols\n",
    "inconsistent"
   ]
  },
  {
   "cell_type": "code",
   "execution_count": 21,
   "metadata": {},
   "outputs": [
    {
     "data": {
      "text/plain": [
       "42"
      ]
     },
     "execution_count": 21,
     "metadata": {},
     "output_type": "execute_result"
    }
   ],
   "source": [
    "len(domains_cols)"
   ]
  },
  {
   "cell_type": "code",
   "execution_count": 22,
   "metadata": {},
   "outputs": [
    {
     "name": "stdout",
     "output_type": "stream",
     "text": [
      "set()\n",
      "{'referer_leaked_url', 'referer_leaked', 'referer_leaked_header'}\n",
      "set()\n"
     ]
    }
   ],
   "source": [
    "for i in inconsistent:\n",
    "    print(set(domains_cols[i-1]) - set(domains_cols[i]))"
   ]
  },
  {
   "cell_type": "code",
   "execution_count": 23,
   "metadata": {},
   "outputs": [
    {
     "name": "stderr",
     "output_type": "stream",
     "text": [
      "/home/bird/miniconda3/envs/whotracksme/lib/python3.6/site-packages/ipykernel_launcher.py:3: FutureWarning: Sorting because non-concatenation axis is not aligned. A future version\n",
      "of pandas will change to not sort by default.\n",
      "\n",
      "To accept the future behavior, pass 'sort=False'.\n",
      "\n",
      "To retain the current behavior and silence the warning, pass 'sort=True'.\n",
      "\n",
      "  This is separate from the ipykernel package so we can avoid doing imports until\n"
     ]
    },
    {
     "data": {
      "text/html": [
       "<div>\n",
       "<style scoped>\n",
       "    .dataframe tbody tr th:only-of-type {\n",
       "        vertical-align: middle;\n",
       "    }\n",
       "\n",
       "    .dataframe tbody tr th {\n",
       "        vertical-align: top;\n",
       "    }\n",
       "\n",
       "    .dataframe thead th {\n",
       "        text-align: right;\n",
       "    }\n",
       "</style>\n",
       "<table border=\"1\" class=\"dataframe\">\n",
       "  <thead>\n",
       "    <tr style=\"text-align: right;\">\n",
       "      <th></th>\n",
       "      <th>bad_qs</th>\n",
       "      <th>beacon</th>\n",
       "      <th>companies</th>\n",
       "      <th>content_length</th>\n",
       "      <th>cookies</th>\n",
       "      <th>country</th>\n",
       "      <th>font</th>\n",
       "      <th>has_blocking</th>\n",
       "      <th>host_tld</th>\n",
       "      <th>hosts</th>\n",
       "      <th>...</th>\n",
       "      <th>requests</th>\n",
       "      <th>requests_failed</th>\n",
       "      <th>requests_tracking</th>\n",
       "      <th>script</th>\n",
       "      <th>site_reach</th>\n",
       "      <th>site_reach_rank</th>\n",
       "      <th>stylesheet</th>\n",
       "      <th>tracked</th>\n",
       "      <th>trackers</th>\n",
       "      <th>xhr</th>\n",
       "    </tr>\n",
       "  </thead>\n",
       "  <tbody>\n",
       "    <tr>\n",
       "      <th>0</th>\n",
       "      <td>0.146460</td>\n",
       "      <td>0.011887</td>\n",
       "      <td>1.0</td>\n",
       "      <td>8612.967754</td>\n",
       "      <td>0.000226</td>\n",
       "      <td>fr</td>\n",
       "      <td>0.000000e+00</td>\n",
       "      <td>0.340230</td>\n",
       "      <td>google-analytics.com</td>\n",
       "      <td>1.0</td>\n",
       "      <td>...</td>\n",
       "      <td>2.925049</td>\n",
       "      <td>1.772315</td>\n",
       "      <td>0.220077</td>\n",
       "      <td>0.980123</td>\n",
       "      <td>0.758803</td>\n",
       "      <td>1</td>\n",
       "      <td>0.000000</td>\n",
       "      <td>0.146585</td>\n",
       "      <td>1.000000</td>\n",
       "      <td>0.002945</td>\n",
       "    </tr>\n",
       "    <tr>\n",
       "      <th>1</th>\n",
       "      <td>0.000374</td>\n",
       "      <td>0.000736</td>\n",
       "      <td>1.0</td>\n",
       "      <td>177580.289932</td>\n",
       "      <td>0.300955</td>\n",
       "      <td>fr</td>\n",
       "      <td>5.101835e-01</td>\n",
       "      <td>0.000646</td>\n",
       "      <td>gstatic.com</td>\n",
       "      <td>1.0</td>\n",
       "      <td>...</td>\n",
       "      <td>13.290306</td>\n",
       "      <td>2.689885</td>\n",
       "      <td>4.256825</td>\n",
       "      <td>0.593459</td>\n",
       "      <td>0.582930</td>\n",
       "      <td>3</td>\n",
       "      <td>0.111235</td>\n",
       "      <td>0.301155</td>\n",
       "      <td>1.000000</td>\n",
       "      <td>0.025346</td>\n",
       "    </tr>\n",
       "    <tr>\n",
       "      <th>2</th>\n",
       "      <td>0.000042</td>\n",
       "      <td>0.000001</td>\n",
       "      <td>1.0</td>\n",
       "      <td>172311.603735</td>\n",
       "      <td>0.001296</td>\n",
       "      <td>fr</td>\n",
       "      <td>1.870254e-03</td>\n",
       "      <td>0.046251</td>\n",
       "      <td>googleapis.com</td>\n",
       "      <td>1.0</td>\n",
       "      <td>...</td>\n",
       "      <td>4.464392</td>\n",
       "      <td>0.925061</td>\n",
       "      <td>0.006689</td>\n",
       "      <td>0.422432</td>\n",
       "      <td>0.745590</td>\n",
       "      <td>2</td>\n",
       "      <td>0.802210</td>\n",
       "      <td>0.001336</td>\n",
       "      <td>1.250911</td>\n",
       "      <td>0.023096</td>\n",
       "    </tr>\n",
       "    <tr>\n",
       "      <th>3</th>\n",
       "      <td>0.005834</td>\n",
       "      <td>0.000410</td>\n",
       "      <td>1.0</td>\n",
       "      <td>104111.500646</td>\n",
       "      <td>0.604106</td>\n",
       "      <td>fr</td>\n",
       "      <td>1.949054e-07</td>\n",
       "      <td>0.425898</td>\n",
       "      <td>google.com</td>\n",
       "      <td>1.0</td>\n",
       "      <td>...</td>\n",
       "      <td>5.062804</td>\n",
       "      <td>1.514489</td>\n",
       "      <td>3.427457</td>\n",
       "      <td>0.878628</td>\n",
       "      <td>0.492196</td>\n",
       "      <td>4</td>\n",
       "      <td>0.034217</td>\n",
       "      <td>0.604847</td>\n",
       "      <td>1.000000</td>\n",
       "      <td>0.090593</td>\n",
       "    </tr>\n",
       "    <tr>\n",
       "      <th>4</th>\n",
       "      <td>0.010583</td>\n",
       "      <td>0.000754</td>\n",
       "      <td>1.0</td>\n",
       "      <td>2485.744336</td>\n",
       "      <td>0.304804</td>\n",
       "      <td>fr</td>\n",
       "      <td>1.419979e-05</td>\n",
       "      <td>0.748490</td>\n",
       "      <td>doubleclick.net</td>\n",
       "      <td>1.0</td>\n",
       "      <td>...</td>\n",
       "      <td>4.045710</td>\n",
       "      <td>3.116704</td>\n",
       "      <td>0.903318</td>\n",
       "      <td>0.661132</td>\n",
       "      <td>0.390617</td>\n",
       "      <td>6</td>\n",
       "      <td>0.000286</td>\n",
       "      <td>0.307316</td>\n",
       "      <td>1.000000</td>\n",
       "      <td>0.252506</td>\n",
       "    </tr>\n",
       "  </tbody>\n",
       "</table>\n",
       "<p>5 rows × 31 columns</p>\n",
       "</div>"
      ],
      "text/plain": [
       "     bad_qs    beacon  companies  content_length   cookies country  \\\n",
       "0  0.146460  0.011887        1.0     8612.967754  0.000226      fr   \n",
       "1  0.000374  0.000736        1.0   177580.289932  0.300955      fr   \n",
       "2  0.000042  0.000001        1.0   172311.603735  0.001296      fr   \n",
       "3  0.005834  0.000410        1.0   104111.500646  0.604106      fr   \n",
       "4  0.010583  0.000754        1.0     2485.744336  0.304804      fr   \n",
       "\n",
       "           font  has_blocking              host_tld  hosts    ...     \\\n",
       "0  0.000000e+00      0.340230  google-analytics.com    1.0    ...      \n",
       "1  5.101835e-01      0.000646           gstatic.com    1.0    ...      \n",
       "2  1.870254e-03      0.046251        googleapis.com    1.0    ...      \n",
       "3  1.949054e-07      0.425898            google.com    1.0    ...      \n",
       "4  1.419979e-05      0.748490       doubleclick.net    1.0    ...      \n",
       "\n",
       "    requests  requests_failed  requests_tracking    script site_reach  \\\n",
       "0   2.925049         1.772315           0.220077  0.980123   0.758803   \n",
       "1  13.290306         2.689885           4.256825  0.593459   0.582930   \n",
       "2   4.464392         0.925061           0.006689  0.422432   0.745590   \n",
       "3   5.062804         1.514489           3.427457  0.878628   0.492196   \n",
       "4   4.045710         3.116704           0.903318  0.661132   0.390617   \n",
       "\n",
       "   site_reach_rank  stylesheet   tracked  trackers       xhr  \n",
       "0                1    0.000000  0.146585  1.000000  0.002945  \n",
       "1                3    0.111235  0.301155  1.000000  0.025346  \n",
       "2                2    0.802210  0.001336  1.250911  0.023096  \n",
       "3                4    0.034217  0.604847  1.000000  0.090593  \n",
       "4                6    0.000286  0.307316  1.000000  0.252506  \n",
       "\n",
       "[5 rows x 31 columns]"
      ]
     },
     "execution_count": 23,
     "metadata": {},
     "output_type": "execute_result"
    }
   ],
   "source": [
    "domains_df = pd.concat([\n",
    "    pd.read_csv(file, parse_dates=['month'])\n",
    "    for file in asset_paths['domains']\n",
    "])\n",
    "domains_df.head()"
   ]
  },
  {
   "cell_type": "code",
   "execution_count": 24,
   "metadata": {},
   "outputs": [
    {
     "data": {
      "text/plain": [
       "37564"
      ]
     },
     "execution_count": 24,
     "metadata": {},
     "output_type": "execute_result"
    }
   ],
   "source": [
    "len(domains_df)"
   ]
  },
  {
   "cell_type": "code",
   "execution_count": 25,
   "metadata": {},
   "outputs": [
    {
     "data": {
      "text/plain": [
       "bad_qs                          float64\n",
       "beacon                          float64\n",
       "companies                       float64\n",
       "content_length                  float64\n",
       "cookies                         float64\n",
       "country                          object\n",
       "font                            float64\n",
       "has_blocking                    float64\n",
       "host_tld                         object\n",
       "hosts                           float64\n",
       "https                           float64\n",
       "iframe                          float64\n",
       "image                           float64\n",
       "media                           float64\n",
       "month                    datetime64[ns]\n",
       "plugin                          float64\n",
       "reach                           float64\n",
       "reach_rank                        int64\n",
       "referer_leaked                  float64\n",
       "referer_leaked_header           float64\n",
       "referer_leaked_url              float64\n",
       "requests                        float64\n",
       "requests_failed                 float64\n",
       "requests_tracking               float64\n",
       "script                          float64\n",
       "site_reach                      float64\n",
       "site_reach_rank                   int64\n",
       "stylesheet                      float64\n",
       "tracked                         float64\n",
       "trackers                        float64\n",
       "xhr                             float64\n",
       "dtype: object"
      ]
     },
     "execution_count": 25,
     "metadata": {},
     "output_type": "execute_result"
    }
   ],
   "source": [
    "domains_df.dtypes"
   ]
  },
  {
   "cell_type": "code",
   "execution_count": 26,
   "metadata": {},
   "outputs": [
    {
     "data": {
      "text/plain": [
       "<matplotlib.axes._subplots.AxesSubplot at 0x7f4b04f47a90>"
      ]
     },
     "execution_count": 26,
     "metadata": {},
     "output_type": "execute_result"
    },
    {
     "data": {
      "image/png": "[encoded data removed]",
      "text/plain": [
       "<Figure size 432x288 with 1 Axes>"
      ]
     },
     "metadata": {
      "needs_background": "light"
     },
     "output_type": "display_data"
    }
   ],
   "source": [
    "domains_df.script.hist()"
   ]
  },
  {
   "cell_type": "code",
   "execution_count": 29,
   "metadata": {},
   "outputs": [
    {
     "data": {
      "text/plain": [
       "2159"
      ]
     },
     "execution_count": 29,
     "metadata": {},
     "output_type": "execute_result"
    }
   ],
   "source": [
    "domains_df.host_tld.nunique()"
   ]
  },
  {
   "cell_type": "code",
   "execution_count": 30,
   "metadata": {},
   "outputs": [
    {
     "data": {
      "text/plain": [
       "292"
      ]
     },
     "execution_count": 30,
     "metadata": {},
     "output_type": "execute_result"
    }
   ],
   "source": [
    "domains_df[domains_df.bad_qs > 0.1].host_tld.nunique()"
   ]
  },
  {
   "cell_type": "code",
   "execution_count": 32,
   "metadata": {},
   "outputs": [
    {
     "name": "stderr",
     "output_type": "stream",
     "text": [
      "/home/bird/miniconda3/envs/whotracksme/lib/python3.6/site-packages/ipykernel_launcher.py:3: FutureWarning: Sorting because non-concatenation axis is not aligned. A future version\n",
      "of pandas will change to not sort by default.\n",
      "\n",
      "To accept the future behavior, pass 'sort=False'.\n",
      "\n",
      "To retain the current behavior and silence the warning, pass 'sort=True'.\n",
      "\n",
      "  This is separate from the ipykernel package so we can avoid doing imports until\n",
      "/home/bird/miniconda3/envs/whotracksme/lib/python3.6/site-packages/ipykernel_launcher.py:7: FutureWarning: Sorting because non-concatenation axis is not aligned. A future version\n",
      "of pandas will change to not sort by default.\n",
      "\n",
      "To accept the future behavior, pass 'sort=False'.\n",
      "\n",
      "To retain the current behavior and silence the warning, pass 'sort=True'.\n",
      "\n",
      "  import sys\n",
      "/home/bird/miniconda3/envs/whotracksme/lib/python3.6/site-packages/ipykernel_launcher.py:11: FutureWarning: Sorting because non-concatenation axis is not aligned. A future version\n",
      "of pandas will change to not sort by default.\n",
      "\n",
      "To accept the future behavior, pass 'sort=False'.\n",
      "\n",
      "To retain the current behavior and silence the warning, pass 'sort=True'.\n",
      "\n",
      "  # This is added back by InteractiveShellApp.init_path()\n",
      "/home/bird/miniconda3/envs/whotracksme/lib/python3.6/site-packages/ipykernel_launcher.py:15: FutureWarning: Sorting because non-concatenation axis is not aligned. A future version\n",
      "of pandas will change to not sort by default.\n",
      "\n",
      "To accept the future behavior, pass 'sort=False'.\n",
      "\n",
      "To retain the current behavior and silence the warning, pass 'sort=True'.\n",
      "\n",
      "  from ipykernel import kernelapp as app\n"
     ]
    }
   ],
   "source": [
    "companies_df = pd.concat([\n",
    "    pd.read_csv(file, parse_dates=['month'])\n",
    "    for file in asset_paths['companies']\n",
    "])\n",
    "sites_df = pd.concat([\n",
    "    pd.read_csv(file, parse_dates=['month'])\n",
    "    for file in asset_paths['sites']\n",
    "])\n",
    "sites_trackers_df = pd.concat([\n",
    "    pd.read_csv(file, parse_dates=['month'])\n",
    "    for file in asset_paths['sites_trackers']\n",
    "])\n",
    "trackers_df = pd.concat([\n",
    "    pd.read_csv(file, parse_dates=['month'])\n",
    "    for file in asset_paths['trackers']\n",
    "])"
   ]
  },
  {
   "cell_type": "code",
   "execution_count": 50,
   "metadata": {},
   "outputs": [
    {
     "data": {
      "text/html": [
       "<div>\n",
       "<style scoped>\n",
       "    .dataframe tbody tr th:only-of-type {\n",
       "        vertical-align: middle;\n",
       "    }\n",
       "\n",
       "    .dataframe tbody tr th {\n",
       "        vertical-align: top;\n",
       "    }\n",
       "\n",
       "    .dataframe thead th {\n",
       "        text-align: right;\n",
       "    }\n",
       "</style>\n",
       "<table border=\"1\" class=\"dataframe\">\n",
       "  <thead>\n",
       "    <tr style=\"text-align: right;\">\n",
       "      <th></th>\n",
       "      <th>company</th>\n",
       "      <th>country</th>\n",
       "      <th>site_reach</th>\n",
       "    </tr>\n",
       "  </thead>\n",
       "  <tbody>\n",
       "    <tr>\n",
       "      <th>0</th>\n",
       "      <td>google</td>\n",
       "      <td>fr</td>\n",
       "      <td>0.933463</td>\n",
       "    </tr>\n",
       "    <tr>\n",
       "      <th>1</th>\n",
       "      <td>facebook</td>\n",
       "      <td>fr</td>\n",
       "      <td>0.386542</td>\n",
       "    </tr>\n",
       "    <tr>\n",
       "      <th>2</th>\n",
       "      <td>amazon_associates</td>\n",
       "      <td>fr</td>\n",
       "      <td>0.171766</td>\n",
       "    </tr>\n",
       "    <tr>\n",
       "      <th>3</th>\n",
       "      <td>at_internet</td>\n",
       "      <td>fr</td>\n",
       "      <td>0.026337</td>\n",
       "    </tr>\n",
       "    <tr>\n",
       "      <th>4</th>\n",
       "      <td>criteo</td>\n",
       "      <td>fr</td>\n",
       "      <td>0.047971</td>\n",
       "    </tr>\n",
       "  </tbody>\n",
       "</table>\n",
       "</div>"
      ],
      "text/plain": [
       "             company country  site_reach\n",
       "0             google      fr    0.933463\n",
       "1           facebook      fr    0.386542\n",
       "2  amazon_associates      fr    0.171766\n",
       "3        at_internet      fr    0.026337\n",
       "4             criteo      fr    0.047971"
      ]
     },
     "execution_count": 50,
     "metadata": {},
     "output_type": "execute_result"
    }
   ],
   "source": [
    "# companies.csv: Top companies - aggregates the stats for trackers owned by the same company.\n",
    "companies_df[['company', 'country', 'site_reach']].head()"
   ]
  },
  {
   "cell_type": "code",
   "execution_count": 52,
   "metadata": {},
   "outputs": [
    {
     "data": {
      "text/html": [
       "<div>\n",
       "<style scoped>\n",
       "    .dataframe tbody tr th:only-of-type {\n",
       "        vertical-align: middle;\n",
       "    }\n",
       "\n",
       "    .dataframe tbody tr th {\n",
       "        vertical-align: top;\n",
       "    }\n",
       "\n",
       "    .dataframe thead th {\n",
       "        text-align: right;\n",
       "    }\n",
       "</style>\n",
       "<table border=\"1\" class=\"dataframe\">\n",
       "  <thead>\n",
       "    <tr style=\"text-align: right;\">\n",
       "      <th></th>\n",
       "      <th>category</th>\n",
       "      <th>country</th>\n",
       "      <th>site</th>\n",
       "      <th>tracker</th>\n",
       "    </tr>\n",
       "  </thead>\n",
       "  <tbody>\n",
       "    <tr>\n",
       "      <th>0</th>\n",
       "      <td>NaN</td>\n",
       "      <td>fr</td>\n",
       "      <td>google.fr</td>\n",
       "      <td>gstatic</td>\n",
       "    </tr>\n",
       "    <tr>\n",
       "      <th>1</th>\n",
       "      <td>NaN</td>\n",
       "      <td>fr</td>\n",
       "      <td>google.com</td>\n",
       "      <td>gstatic</td>\n",
       "    </tr>\n",
       "    <tr>\n",
       "      <th>2</th>\n",
       "      <td>NaN</td>\n",
       "      <td>fr</td>\n",
       "      <td>youtube.com</td>\n",
       "      <td>gstatic</td>\n",
       "    </tr>\n",
       "    <tr>\n",
       "      <th>3</th>\n",
       "      <td>NaN</td>\n",
       "      <td>fr</td>\n",
       "      <td>voirfilms.ws</td>\n",
       "      <td>gstatic</td>\n",
       "    </tr>\n",
       "    <tr>\n",
       "      <th>4</th>\n",
       "      <td>NaN</td>\n",
       "      <td>fr</td>\n",
       "      <td>xvideos.com</td>\n",
       "      <td>gstatic</td>\n",
       "    </tr>\n",
       "  </tbody>\n",
       "</table>\n",
       "</div>"
      ],
      "text/plain": [
       "  category country          site  tracker\n",
       "0      NaN      fr     google.fr  gstatic\n",
       "1      NaN      fr    google.com  gstatic\n",
       "2      NaN      fr   youtube.com  gstatic\n",
       "3      NaN      fr  voirfilms.ws  gstatic\n",
       "4      NaN      fr   xvideos.com  gstatic"
      ]
     },
     "execution_count": 52,
     "metadata": {},
     "output_type": "execute_result"
    }
   ],
   "source": [
    "# sites.csv: Stats for number of trackers seen on popular websites.\n",
    "sites_df[['category', 'country', 'site', 'tracker']].head()"
   ]
  },
  {
   "cell_type": "code",
   "execution_count": 51,
   "metadata": {},
   "outputs": [
    {
     "data": {
      "text/html": [
       "<div>\n",
       "<style scoped>\n",
       "    .dataframe tbody tr th:only-of-type {\n",
       "        vertical-align: middle;\n",
       "    }\n",
       "\n",
       "    .dataframe tbody tr th {\n",
       "        vertical-align: top;\n",
       "    }\n",
       "\n",
       "    .dataframe thead th {\n",
       "        text-align: right;\n",
       "    }\n",
       "</style>\n",
       "<table border=\"1\" class=\"dataframe\">\n",
       "  <thead>\n",
       "    <tr style=\"text-align: right;\">\n",
       "      <th></th>\n",
       "      <th>country</th>\n",
       "      <th>site</th>\n",
       "      <th>tracker</th>\n",
       "    </tr>\n",
       "  </thead>\n",
       "  <tbody>\n",
       "    <tr>\n",
       "      <th>0</th>\n",
       "      <td>fr</td>\n",
       "      <td>google.fr</td>\n",
       "      <td>gstatic</td>\n",
       "    </tr>\n",
       "    <tr>\n",
       "      <th>1</th>\n",
       "      <td>fr</td>\n",
       "      <td>google.com</td>\n",
       "      <td>gstatic</td>\n",
       "    </tr>\n",
       "    <tr>\n",
       "      <th>2</th>\n",
       "      <td>fr</td>\n",
       "      <td>youtube.com</td>\n",
       "      <td>gstatic</td>\n",
       "    </tr>\n",
       "    <tr>\n",
       "      <th>3</th>\n",
       "      <td>fr</td>\n",
       "      <td>voirfilms.ws</td>\n",
       "      <td>gstatic</td>\n",
       "    </tr>\n",
       "    <tr>\n",
       "      <th>4</th>\n",
       "      <td>fr</td>\n",
       "      <td>xvideos.com</td>\n",
       "      <td>gstatic</td>\n",
       "    </tr>\n",
       "  </tbody>\n",
       "</table>\n",
       "</div>"
      ],
      "text/plain": [
       "  country          site  tracker\n",
       "0      fr     google.fr  gstatic\n",
       "1      fr    google.com  gstatic\n",
       "2      fr   youtube.com  gstatic\n",
       "3      fr  voirfilms.ws  gstatic\n",
       "4      fr   xvideos.com  gstatic"
      ]
     },
     "execution_count": 51,
     "metadata": {},
     "output_type": "execute_result"
    }
   ],
   "source": [
    "# site_trackers.csv: Stats for each tracker on each site.\n",
    "sites_trackers_df[['country', 'site', 'tracker']].head()"
   ]
  },
  {
   "cell_type": "code",
   "execution_count": 49,
   "metadata": {},
   "outputs": [
    {
     "data": {
      "text/html": [
       "<div>\n",
       "<style scoped>\n",
       "    .dataframe tbody tr th:only-of-type {\n",
       "        vertical-align: middle;\n",
       "    }\n",
       "\n",
       "    .dataframe tbody tr th {\n",
       "        vertical-align: top;\n",
       "    }\n",
       "\n",
       "    .dataframe thead th {\n",
       "        text-align: right;\n",
       "    }\n",
       "</style>\n",
       "<table border=\"1\" class=\"dataframe\">\n",
       "  <thead>\n",
       "    <tr style=\"text-align: right;\">\n",
       "      <th></th>\n",
       "      <th>country</th>\n",
       "      <th>site</th>\n",
       "      <th>tracker</th>\n",
       "    </tr>\n",
       "  </thead>\n",
       "  <tbody>\n",
       "    <tr>\n",
       "      <th>0</th>\n",
       "      <td>fr</td>\n",
       "      <td>google.fr</td>\n",
       "      <td>gstatic</td>\n",
       "    </tr>\n",
       "    <tr>\n",
       "      <th>1</th>\n",
       "      <td>fr</td>\n",
       "      <td>google.com</td>\n",
       "      <td>gstatic</td>\n",
       "    </tr>\n",
       "    <tr>\n",
       "      <th>2</th>\n",
       "      <td>fr</td>\n",
       "      <td>youtube.com</td>\n",
       "      <td>gstatic</td>\n",
       "    </tr>\n",
       "    <tr>\n",
       "      <th>3</th>\n",
       "      <td>fr</td>\n",
       "      <td>voirfilms.ws</td>\n",
       "      <td>gstatic</td>\n",
       "    </tr>\n",
       "    <tr>\n",
       "      <th>4</th>\n",
       "      <td>fr</td>\n",
       "      <td>xvideos.com</td>\n",
       "      <td>gstatic</td>\n",
       "    </tr>\n",
       "  </tbody>\n",
       "</table>\n",
       "</div>"
      ],
      "text/plain": [
       "  country          site  tracker\n",
       "0      fr     google.fr  gstatic\n",
       "1      fr    google.com  gstatic\n",
       "2      fr   youtube.com  gstatic\n",
       "3      fr  voirfilms.ws  gstatic\n",
       "4      fr   xvideos.com  gstatic"
      ]
     },
     "execution_count": 49,
     "metadata": {},
     "output_type": "execute_result"
    }
   ],
   "source": [
    "# trackers.csv: Top trackers - this combines domains known be operated by the same tracker.\n",
    "trackers_df[['country', 'site', 'tracker']].head()"
   ]
  },
  {
   "cell_type": "code",
   "execution_count": 48,
   "metadata": {},
   "outputs": [
    {
     "data": {
      "text/html": [
       "<div>\n",
       "<style scoped>\n",
       "    .dataframe tbody tr th:only-of-type {\n",
       "        vertical-align: middle;\n",
       "    }\n",
       "\n",
       "    .dataframe tbody tr th {\n",
       "        vertical-align: top;\n",
       "    }\n",
       "\n",
       "    .dataframe thead th {\n",
       "        text-align: right;\n",
       "    }\n",
       "</style>\n",
       "<table border=\"1\" class=\"dataframe\">\n",
       "  <thead>\n",
       "    <tr style=\"text-align: right;\">\n",
       "      <th></th>\n",
       "      <th>country</th>\n",
       "      <th>host_tld</th>\n",
       "    </tr>\n",
       "  </thead>\n",
       "  <tbody>\n",
       "    <tr>\n",
       "      <th>0</th>\n",
       "      <td>fr</td>\n",
       "      <td>google-analytics.com</td>\n",
       "    </tr>\n",
       "    <tr>\n",
       "      <th>1</th>\n",
       "      <td>fr</td>\n",
       "      <td>gstatic.com</td>\n",
       "    </tr>\n",
       "    <tr>\n",
       "      <th>2</th>\n",
       "      <td>fr</td>\n",
       "      <td>googleapis.com</td>\n",
       "    </tr>\n",
       "    <tr>\n",
       "      <th>3</th>\n",
       "      <td>fr</td>\n",
       "      <td>google.com</td>\n",
       "    </tr>\n",
       "    <tr>\n",
       "      <th>4</th>\n",
       "      <td>fr</td>\n",
       "      <td>doubleclick.net</td>\n",
       "    </tr>\n",
       "  </tbody>\n",
       "</table>\n",
       "</div>"
      ],
      "text/plain": [
       "  country              host_tld\n",
       "0      fr  google-analytics.com\n",
       "1      fr           gstatic.com\n",
       "2      fr        googleapis.com\n",
       "3      fr            google.com\n",
       "4      fr       doubleclick.net"
      ]
     },
     "execution_count": 48,
     "metadata": {},
     "output_type": "execute_result"
    }
   ],
   "source": [
    "# domains.csv: Top third-party domains seen tracking.\n",
    "domains_df[['country', 'host_tld']].head()"
   ]
  },
  {
   "cell_type": "code",
   "execution_count": 53,
   "metadata": {},
   "outputs": [
    {
     "data": {
      "text/plain": [
       "37564"
      ]
     },
     "execution_count": 53,
     "metadata": {},
     "output_type": "execute_result"
    }
   ],
   "source": [
    "len(domains_df)"
   ]
  },
  {
   "cell_type": "code",
   "execution_count": 54,
   "metadata": {},
   "outputs": [
    {
     "data": {
      "text/plain": [
       "1599663"
      ]
     },
     "execution_count": 54,
     "metadata": {},
     "output_type": "execute_result"
    }
   ],
   "source": [
    "len(trackers_df)"
   ]
  },
  {
   "cell_type": "code",
   "execution_count": 62,
   "metadata": {},
   "outputs": [
    {
     "data": {
      "text/plain": [
       "1325"
      ]
     },
     "execution_count": 62,
     "metadata": {},
     "output_type": "execute_result"
    }
   ],
   "source": [
    "len(tracker_info['trackers'])"
   ]
  },
  {
   "cell_type": "code",
   "execution_count": 63,
   "metadata": {},
   "outputs": [
    {
     "data": {
      "text/plain": [
       "1143"
      ]
     },
     "execution_count": 63,
     "metadata": {},
     "output_type": "execute_result"
    }
   ],
   "source": [
    "trackers_df.tracker.nunique()"
   ]
  },
  {
   "cell_type": "code",
   "execution_count": 68,
   "metadata": {},
   "outputs": [
    {
     "data": {
      "text/plain": [
       "{'id': 'gstatic',\n",
       " 'name': 'Google Static',\n",
       " 'category': 'cdn',\n",
       " 'website_url': None,\n",
       " 'ghostery_id': None,\n",
       " 'company_id': 'google',\n",
       " 'iab_vendor': None,\n",
       " 'truste_type': None,\n",
       " 'description': None,\n",
       " 'privacy_url': 'http://www.google.com/intl/en/policies/privacy/',\n",
       " 'domains': ['gstatic.com']}"
      ]
     },
     "execution_count": 68,
     "metadata": {},
     "output_type": "execute_result"
    }
   ],
   "source": [
    "tracker_info['trackers']['gstatic']"
   ]
  },
  {
   "cell_type": "code",
   "execution_count": 76,
   "metadata": {},
   "outputs": [
    {
     "data": {
      "text/plain": [
       "292"
      ]
     },
     "execution_count": 76,
     "metadata": {},
     "output_type": "execute_result"
    }
   ],
   "source": [
    "domains_df[domains_df.bad_qs > 0.1].host_tld.nunique()"
   ]
  },
  {
   "cell_type": "code",
   "execution_count": 77,
   "metadata": {},
   "outputs": [
    {
     "data": {
      "text/plain": [
       "9145"
      ]
     },
     "execution_count": 77,
     "metadata": {},
     "output_type": "execute_result"
    }
   ],
   "source": [
    "trackers_df[trackers_df.bad_qs > 0.1].site.nunique()"
   ]
  },
  {
   "cell_type": "code",
   "execution_count": 94,
   "metadata": {},
   "outputs": [
    {
     "data": {
      "text/plain": [
       "quantcast              41\n",
       "bing_ads               35\n",
       "twitter                35\n",
       "yahoo                  32\n",
       "googleapis.com         32\n",
       "quantcount             31\n",
       "gstatic                30\n",
       "google                 24\n",
       "cloudflare             19\n",
       "google_fonts           15\n",
       "kaspersky-labs.com     13\n",
       "flickr_badge           11\n",
       "pinterest               8\n",
       "wordpress_stats         8\n",
       "facebook                7\n",
       "dailymail.co.uk         6\n",
       "wikimedia.org           5\n",
       "taboola                 4\n",
       "amazon_associates       3\n",
       "pagefair                2\n",
       "digitrust               2\n",
       "youtube                 2\n",
       "amazon_cdn              2\n",
       "iab_consent             2\n",
       "facebook_cdn            2\n",
       "index_exchange_         1\n",
       "openx                   1\n",
       "nyt.com                 1\n",
       "the_guardian            1\n",
       "the_weather_company     1\n",
       "ziff_davis              1\n",
       "bbci                    1\n",
       "criteo                  1\n",
       "amazon_web_services     1\n",
       "Name: tracker, dtype: int64"
      ]
     },
     "execution_count": 94,
     "metadata": {},
     "output_type": "execute_result"
    }
   ],
   "source": [
    "trackers_df[trackers_df.site == 'drudgereport.com'].tracker.value_counts()"
   ]
  },
  {
   "cell_type": "code",
   "execution_count": 90,
   "metadata": {
    "scrolled": true
   },
   "outputs": [
    {
     "data": {
      "text/plain": [
       "['easybourse.com',\n",
       " 'canal-plus.com',\n",
       " 'sofinco.fr',\n",
       " 'aliexpress.com',\n",
       " 'sephora.fr',\n",
       " 'darty.com',\n",
       " 'vente-privee.com',\n",
       " 'rs-online.com',\n",
       " 'boulanger.com',\n",
       " 'zalando.fr',\n",
       " 'urlauctioneer.com',\n",
       " 'hollisterco.com',\n",
       " 'gearbest.com',\n",
       " 'lequipe.fr',\n",
       " 'leparisien.fr',\n",
       " 'rugbyrama.fr',\n",
       " '750g.com',\n",
       " 'sportetstyle.fr',\n",
       " 'motorsport.com',\n",
       " 'francefootball.fr',\n",
       " 'femmesplus.fr',\n",
       " 'mundodeportivo.com',\n",
       " 'republicain-lorrain.fr',\n",
       " 'boredpanda.com',\n",
       " 'lalsace.fr',\n",
       " 'elperiodico.com',\n",
       " 'blog-rct.com',\n",
       " 'leroymerlin.fr',\n",
       " 'castorama.fr',\n",
       " 'son-video.com',\n",
       " 'norauto.fr',\n",
       " 'vertbaudet.fr',\n",
       " 'uniqlo.com',\n",
       " 'kingoloto.com',\n",
       " 'ibm.com',\n",
       " 'vistaprint.fr',\n",
       " 'adidas.fr',\n",
       " 'redbubble.com',\n",
       " 'mangahere.cc',\n",
       " 'basketusa.com',\n",
       " 'avxhm.se',\n",
       " 'mangatown.com',\n",
       " 'pof.com',\n",
       " 'twitter.com',\n",
       " 'googleusercontent.com',\n",
       " 'explorimmo.com',\n",
       " 'cadremploi.fr',\n",
       " 'perlesandco.com',\n",
       " 'axabanque.fr',\n",
       " 'cultureindoor.com',\n",
       " 'axa.fr',\n",
       " 'quintonic.fr',\n",
       " 'dieti-natura.com',\n",
       " 'huffingtonpost.fr',\n",
       " 'rtl.fr',\n",
       " 'lesinrocks.com',\n",
       " 'chronodrive.com',\n",
       " 'cdiscount.com',\n",
       " 'oui.sncf',\n",
       " 'fnac.com',\n",
       " 'decathlon.fr',\n",
       " 'manomano.fr',\n",
       " 'airfrance.fr',\n",
       " 'laredoute.fr',\n",
       " 'oscaro.com',\n",
       " 'fdj.fr',\n",
       " 'laposte.fr',\n",
       " 'dofus.com',\n",
       " 'maisonsdumonde.com',\n",
       " 'labanquepostale.fr',\n",
       " 'caisse-epargne.fr',\n",
       " 'fortuneo.fr',\n",
       " 'cmb.fr',\n",
       " 'malakoffmederic.com',\n",
       " 'ariase.com',\n",
       " 'backmarket.fr',\n",
       " 'mister-auto.com',\n",
       " 'maxicoffee.com',\n",
       " 'nespresso.com',\n",
       " 'onatera.com',\n",
       " 'i-run.fr',\n",
       " 'elite-auto.fr',\n",
       " 'direct-assurance.fr',\n",
       " 'tui.fr',\n",
       " 'probikeshop.fr',\n",
       " '3suisses.fr',\n",
       " 'europcar.fr',\n",
       " 'digiposte.fr',\n",
       " 'histoiredor.com',\n",
       " 'sfr.fr',\n",
       " 'bricozor.com',\n",
       " 'puydufou.com',\n",
       " 'bouyguestelecom-entreprises.fr',\n",
       " 'intersport.fr',\n",
       " 'bruneau.fr',\n",
       " 'cofidis.fr',\n",
       " 'poulpeo.com',\n",
       " 'ikks.com',\n",
       " 'ankama.com',\n",
       " 'yellohvillage.fr',\n",
       " 'carrefour-banque.fr',\n",
       " 'alibaba.com',\n",
       " 'gala.fr',\n",
       " 'gum-gum-stream.co',\n",
       " 'modz.fr',\n",
       " 'betclic.fr',\n",
       " 'renault.fr',\n",
       " 'gammvert.fr',\n",
       " 'leetchi.com',\n",
       " 'photobox.fr',\n",
       " 'catawiki.eu',\n",
       " '123pneus.fr',\n",
       " 'deporvillage.fr',\n",
       " '1001pneus.fr',\n",
       " 'cobra.fr',\n",
       " 'green-acres.fr',\n",
       " 'mobile.de',\n",
       " 'pornhub.com',\n",
       " 'girlscanner.cc',\n",
       " 'homecinema-fr.com',\n",
       " 'drudgereport.com',\n",
       " 'pestsquasher.com',\n",
       " 'issuu.com',\n",
       " 'seneweb.com',\n",
       " 'french-stream.co',\n",
       " 'imagetwist.com',\n",
       " 'gum-gum-streaming.com',\n",
       " 'fr-streaming.com',\n",
       " 'zone-ebook.com',\n",
       " 'filmstreamvk.info',\n",
       " 'pornleech.is',\n",
       " 'filmcomplet.la',\n",
       " 'sportingvideo3.com',\n",
       " 'full-stream.im',\n",
       " 'youwatch-series.com',\n",
       " 'livetvcdn.net',\n",
       " 'scan-manga.com',\n",
       " 'jules.com',\n",
       " 'bloomberg.com',\n",
       " 'cache-cache.fr',\n",
       " 'lemonde.fr',\n",
       " 'orange.fr',\n",
       " 'google.com',\n",
       " '20minutes.fr',\n",
       " '01net.com',\n",
       " 'allocine.fr',\n",
       " 'chaturbate.com',\n",
       " 'lefigaro.fr',\n",
       " 'nouvelobs.com',\n",
       " 'francetvinfo.fr',\n",
       " 'geneanet.org',\n",
       " 'stackoverflow.com',\n",
       " 'boursorama.com',\n",
       " 'ouest-france.fr',\n",
       " 'telerama.fr',\n",
       " 'airbnb.fr',\n",
       " 'dealabs.com',\n",
       " 'pagesjaunes.fr',\n",
       " 'lepoint.fr',\n",
       " 'meteofrance.com',\n",
       " 'liberation.fr',\n",
       " 'linkedin.com',\n",
       " 'indeed.fr',\n",
       " 'reverso.net',\n",
       " 'ldlc.com',\n",
       " 'showroomprive.com',\n",
       " 'vinted.fr',\n",
       " 'adopteunmec.com',\n",
       " 'wikia.com',\n",
       " 'creditmutuel.fr',\n",
       " 'tf1.fr',\n",
       " 'jeanmarcmorandini.com',\n",
       " 'wordreference.com',\n",
       " 'clubic.com',\n",
       " 'france.tv',\n",
       " 'hardware.fr',\n",
       " 'lesechos.fr',\n",
       " 'societe.com',\n",
       " 'ants.gouv.fr',\n",
       " 'linguee.fr',\n",
       " 'blablacar.fr',\n",
       " 'rueducommerce.fr',\n",
       " 'footmercato.net',\n",
       " 'lexpress.fr',\n",
       " 'edf.fr',\n",
       " 'wannonce.com',\n",
       " 'zonebourse.com',\n",
       " 'onvasortir.com',\n",
       " 'openclassrooms.com',\n",
       " 'meteociel.fr',\n",
       " 'latribune.fr',\n",
       " 'rustica.fr',\n",
       " 'boursier.com',\n",
       " 'lesnumeriques.com',\n",
       " 'lelscanv.com',\n",
       " 'carrefour.fr',\n",
       " 'lachainemeteo.com',\n",
       " 'yggtorrent.is',\n",
       " 'mozilla.org',\n",
       " 'skstream.biz',\n",
       " 'bouyguestelecom.fr',\n",
       " 'thomann.de',\n",
       " 'commentcamarche.net',\n",
       " 'dailymotion.com',\n",
       " 'materiel.net',\n",
       " 'imgur.com',\n",
       " 'service-public.fr',\n",
       " 'linternaute.com',\n",
       " 'noelshack.com',\n",
       " 'sudouest.fr',\n",
       " 'roblox.com',\n",
       " 'journaldugeek.com',\n",
       " 'theguardian.com',\n",
       " 'scantrad.fr',\n",
       " 'sciencesetavenir.fr',\n",
       " 'rt.com',\n",
       " 'vivastreet.com',\n",
       " 'midilibre.fr',\n",
       " 'papystreaming.com',\n",
       " 'cic.fr',\n",
       " 'commentcamarche.com',\n",
       " 'scan-vf.com',\n",
       " 'doctolib.fr',\n",
       " 'spankbang.com',\n",
       " 'pcastuces.com',\n",
       " 'gamepedia.com',\n",
       " 'leprogres.fr',\n",
       " 'sports.fr',\n",
       " 'eurosport.fr',\n",
       " 'equideow.com',\n",
       " 'futura-sciences.com',\n",
       " 'sncf.com',\n",
       " 'urssaf.fr',\n",
       " 'w3schools.com',\n",
       " 'etsy.com',\n",
       " 'koreus.com',\n",
       " 'foot01.com',\n",
       " 'uploaded.net',\n",
       " 'adkami.com',\n",
       " 'telechargerunevideo.com',\n",
       " 'privatesportshop.fr',\n",
       " 'ingdirect.fr',\n",
       " 'paruvendu.fr',\n",
       " 'spotify.com',\n",
       " 'coco.fr',\n",
       " 'wawacity.ec',\n",
       " 'babelio.com',\n",
       " 'egaliteetreconciliation.fr',\n",
       " 'pap.fr',\n",
       " 'madmoizelle.com',\n",
       " 'mediapart.fr',\n",
       " 'priceminister.com',\n",
       " 'lavoixdunord.fr',\n",
       " 'torrent9.red',\n",
       " 'frandroid.com',\n",
       " 'free.fr',\n",
       " 'bricodepot.fr',\n",
       " 'abcbourse.com',\n",
       " 'sputniknews.com',\n",
       " 'ladepeche.fr',\n",
       " 'letudiant.fr',\n",
       " 'banggood.com',\n",
       " 'zdnet.fr',\n",
       " 'fortnitetracker.com',\n",
       " 'stackexchange.com',\n",
       " 'senscritique.com',\n",
       " 'easyjet.com',\n",
       " 'freepik.com',\n",
       " 'instant-gaming.com',\n",
       " 'microsoft.com',\n",
       " 'humblebundle.com',\n",
       " 'paypal.com',\n",
       " 'mailchimp.com',\n",
       " 'nih.gov',\n",
       " 'myanimelist.net',\n",
       " 'wetransfer.com',\n",
       " 'vimeo.com',\n",
       " 'bitbucket.org',\n",
       " 'wikihow.com',\n",
       " 'strava.com',\n",
       " 'hm.com',\n",
       " 'deviantart.com',\n",
       " 'mangapanda.com',\n",
       " 'livetv.sx',\n",
       " 'royalgames.com',\n",
       " 'mangakakalot.com',\n",
       " 'asus.com',\n",
       " 'giphy.com',\n",
       " 'researchgate.net',\n",
       " 'secondlife.com',\n",
       " 'hds.to',\n",
       " 'flightaware.com',\n",
       " 'kickstarter.com',\n",
       " 'gotporn.com',\n",
       " 'buzzfeed.com',\n",
       " 'curseforge.com',\n",
       " 'ultimate-guitar.com',\n",
       " 'salesforce.com',\n",
       " 'exceedlms.com',\n",
       " 'ebay-kleinanzeigen.de',\n",
       " 'feedly.com',\n",
       " 'askubuntu.com',\n",
       " 'udemy.com',\n",
       " 'myvidster.com',\n",
       " 'hotels.com',\n",
       " 'doodle.com',\n",
       " 'battle.net',\n",
       " 'thumbzilla.com',\n",
       " 'lcl.fr',\n",
       " 'livejasmin.com',\n",
       " 'rapidgator.net',\n",
       " 'epicgames.com',\n",
       " 'liveleak.com',\n",
       " 'semrush.com',\n",
       " 'geocaching.com',\n",
       " 'coinmarketcap.com',\n",
       " 'lightinthebox.com',\n",
       " 'wordpress.org',\n",
       " 'medium.com',\n",
       " 'winds-up.com',\n",
       " 'emuparadise.me',\n",
       " 'cardmarket.com',\n",
       " 'boardgamegeek.com',\n",
       " 'wish.com',\n",
       " 'samsung.com',\n",
       " 'hearthpwn.com',\n",
       " 'xe.com',\n",
       " 'nytimes.com',\n",
       " 'drtuber.com',\n",
       " 'codepen.io',\n",
       " 'pathofexile.com',\n",
       " 'getpocket.com',\n",
       " 'independent.co.uk',\n",
       " 'slideshare.net',\n",
       " 'docker.com',\n",
       " 'txxx.com',\n",
       " 'accuweather.com',\n",
       " 'wordpress.com',\n",
       " 'garmin.com',\n",
       " 'vice.com',\n",
       " 'credit-agricole.fr',\n",
       " '2ememain.be',\n",
       " 'malwarebytes.com',\n",
       " 'superuser.com',\n",
       " 'xxxstreams.org',\n",
       " 'patreon.com',\n",
       " 'indeed.com',\n",
       " 'wix.com',\n",
       " 'socialblade.com',\n",
       " 'kongregate.com',\n",
       " 'flightradar24.com',\n",
       " 'tradingview.com',\n",
       " 'intel.com',\n",
       " 'pornbb.org',\n",
       " 'nuvid.com',\n",
       " 'guildwars2.com',\n",
       " 'binance.com',\n",
       " 'ign.com',\n",
       " 'plarium.com',\n",
       " 'surveymonkey.com',\n",
       " 'airbnb.com',\n",
       " 'vipergirls.to',\n",
       " 'porntrex.com',\n",
       " 'speedtest.net',\n",
       " 'g2a.com',\n",
       " 'imagebam.com',\n",
       " 'mangapark.me',\n",
       " 'loverslab.com',\n",
       " 'evernote.com',\n",
       " 'limetorrents.cc',\n",
       " 'pexels.com',\n",
       " 'gog.com',\n",
       " 'cda.pl',\n",
       " 'meetup.com',\n",
       " 'pornmd.com',\n",
       " 'tutorialspoint.com',\n",
       " 'coinbase.com',\n",
       " 'gametwist.com',\n",
       " 'scribd.com',\n",
       " 'spankwire.com',\n",
       " 'autodesk.com',\n",
       " 'filehippo.com',\n",
       " 'leagueoflegends.com',\n",
       " 'hp.com',\n",
       " 'sapo.pt',\n",
       " 'norton.com',\n",
       " 'jizzbunker.com',\n",
       " 'hattrick.org',\n",
       " 'wattpad.com',\n",
       " 'nyaa.si',\n",
       " 'edx.org',\n",
       " 'gls-group.eu',\n",
       " 'hclips.com',\n",
       " 'olx.pl',\n",
       " 'arstechnica.com',\n",
       " 'f95zone.com',\n",
       " 'wunderground.com',\n",
       " 'zoom.us',\n",
       " 'linguee.de',\n",
       " 'porn.com',\n",
       " 'myfitnesspal.com',\n",
       " 'wizards.com',\n",
       " 'upornia.com',\n",
       " 'wargaming.net',\n",
       " 'discordapp.com',\n",
       " 'shutterstock.com',\n",
       " 'xnxx.com',\n",
       " 'brazzers.com',\n",
       " 'jetbrains.com',\n",
       " 'c-and-a.com',\n",
       " 'tomtom.com',\n",
       " 'freeones.com',\n",
       " 'zerohedge.com',\n",
       " 'howtogeek.com',\n",
       " 'manganelo.com',\n",
       " 'bravotube.net',\n",
       " 'hotmovs.com',\n",
       " 'visualstudio.com',\n",
       " 'gazzetta.it',\n",
       " 'wykop.pl',\n",
       " 'newrelic.com',\n",
       " 'pixiv.net',\n",
       " 'thetradedesk.com',\n",
       " 'techradar.com',\n",
       " 'faz.net',\n",
       " 'hurriyet.com.tr',\n",
       " 'pons.com',\n",
       " 'leo.org',\n",
       " 'gsmarena.com',\n",
       " 'icy-veins.com',\n",
       " 'uol.com.br',\n",
       " 'farming-simulator.com',\n",
       " 'netflix.com',\n",
       " 'computerbild.de',\n",
       " 'pornhd.com',\n",
       " 'k2s.cc',\n",
       " 'letelegramme.fr',\n",
       " 'lejdd.fr',\n",
       " 'eclypsia.com',\n",
       " 'larep.fr',\n",
       " 'parismatch.com',\n",
       " 'lindependant.fr',\n",
       " 'fnacspectacles.com',\n",
       " 'spiegel.de',\n",
       " 'sueddeutsche.de',\n",
       " 'dpstream.net',\n",
       " 'etam.com',\n",
       " 'bedetheque.com',\n",
       " 'ruenu.com',\n",
       " 'blackcompanymanga.com',\n",
       " 'analdin.com',\n",
       " 'voyeurhit.com',\n",
       " '5movies.to',\n",
       " 'secureholiday.net',\n",
       " 'undiz.com',\n",
       " 'animeshow.tv',\n",
       " 'digikey.fr',\n",
       " 'tubepornclassic.com',\n",
       " 'cineiz.cc',\n",
       " 'asos.fr',\n",
       " 'elpais.com',\n",
       " 'expedia.fr',\n",
       " 'abritel.fr',\n",
       " 'behance.net',\n",
       " 'amivac.com',\n",
       " 'ubi.com',\n",
       " 'asos.com',\n",
       " 'okaidi.fr',\n",
       " 'zooplus.fr',\n",
       " 'lafourchette.com',\n",
       " 'aol.com',\n",
       " 'sciencedirect.com',\n",
       " 'aol.fr',\n",
       " 'ebay.co.uk',\n",
       " 'drakulawidget.com',\n",
       " 'ebay.com',\n",
       " 'accorhotels.com',\n",
       " 'vestiairecollective.com',\n",
       " 'ebay.de',\n",
       " 'linguee.com',\n",
       " 'heise.de',\n",
       " 'zeit.de',\n",
       " 'chip.de',\n",
       " 'zdf.de',\n",
       " 'welt.de',\n",
       " 'kicker.de',\n",
       " 't-online.de',\n",
       " 'focus.de',\n",
       " 'repubblica.it',\n",
       " 'ilfattoquotidiano.it',\n",
       " 'corriere.it',\n",
       " 'metacritic.com',\n",
       " 'sosh.fr',\n",
       " 'rexel.fr',\n",
       " 'bonprix.fr',\n",
       " 'bahn.de',\n",
       " 'starofservice.com',\n",
       " 'tomshardware.co.uk',\n",
       " 'breakflip.com',\n",
       " 'nautiljon.com',\n",
       " 'office.com',\n",
       " 'sharepoint.com',\n",
       " 'office365.com',\n",
       " 'xbox.com',\n",
       " 'yammer.com',\n",
       " 'coursesu.com',\n",
       " 'telegraph.co.uk',\n",
       " 'daxon.fr',\n",
       " 'omniture.com',\n",
       " 'igen.fr',\n",
       " 'ancestry.co.uk',\n",
       " 'orange-business.com',\n",
       " 'vivud.com',\n",
       " '20min.ch',\n",
       " 'planet.fr',\n",
       " 'medisite.fr',\n",
       " 'football365.fr',\n",
       " 'letribunaldunet.fr',\n",
       " 'scan-fr.io',\n",
       " 'beinsports.com',\n",
       " 'mangadb.co',\n",
       " 'voiranime.tv',\n",
       " 'topreplay.tv',\n",
       " 'mamcin.com',\n",
       " 'paroles.net',\n",
       " 'animedigitalnetwork.fr',\n",
       " 'minecraft-france.fr',\n",
       " 'europe1.fr',\n",
       " 'cnews.fr',\n",
       " 'buzzmonclick.com',\n",
       " 'leparking.fr',\n",
       " 'ozap.com',\n",
       " 'mercato365.com',\n",
       " 'divertissonsnous.com',\n",
       " 'leboncoin.fr',\n",
       " 'pole-emploi.fr',\n",
       " 'bfmtv.com',\n",
       " 'caf.fr',\n",
       " 'societegenerale.fr',\n",
       " 'leclercdrive.fr',\n",
       " 'lacentrale.fr',\n",
       " 'arte.tv',\n",
       " 'ameli.fr',\n",
       " 'geny.com',\n",
       " 'ledauphine.com',\n",
       " 'legifrance.gouv.fr',\n",
       " 'topachat.com',\n",
       " 'logic-immo.com',\n",
       " 'conforama.fr',\n",
       " 'caradisiac.com',\n",
       " 'ovh.com',\n",
       " 'ratp.fr',\n",
       " 'franceinter.fr',\n",
       " 'doctissimo.fr',\n",
       " 'courrierinternational.com',\n",
       " 'challenges.fr',\n",
       " 'forum-auto.com',\n",
       " 'intermarche.com',\n",
       " 'bnf.fr',\n",
       " 'lamontagne.fr',\n",
       " 'laprovence.com',\n",
       " 'franceculture.fr',\n",
       " 'programme-television.org',\n",
       " 'systemed.fr',\n",
       " 'meteo-paris.com',\n",
       " 'skyrock.com',\n",
       " 'macif.fr',\n",
       " 'marianne.net',\n",
       " 'mgen.fr',\n",
       " 'natixis.fr',\n",
       " 'boursedirect.fr',\n",
       " 'estrepublicain.fr',\n",
       " 'tv-replay.fr',\n",
       " 'notretemps.com',\n",
       " 'psychologies.com',\n",
       " 'ouestfrance-immo.com',\n",
       " 'chronopost.fr',\n",
       " 'maif.fr',\n",
       " 'lejsl.com',\n",
       " 'lci.fr',\n",
       " 'economie.gouv.fr',\n",
       " 'fip.fr',\n",
       " 'francebleu.fr',\n",
       " 'dna.fr',\n",
       " 'autoplus.fr',\n",
       " 'papvacances.fr',\n",
       " 'bienpublic.com',\n",
       " 'la-croix.com',\n",
       " 'usinenouvelle.com',\n",
       " 'actu.fr',\n",
       " 'aujourdhui.fr',\n",
       " 'education.gouv.fr',\n",
       " 'enedis.fr',\n",
       " 'lequotidiendumedecin.fr',\n",
       " 'pointp.fr',\n",
       " 'harmonie-mutuelle.fr',\n",
       " 'afpa.fr',\n",
       " 'ubaldi.com',\n",
       " 'maville.com',\n",
       " 'education.fr',\n",
       " 'larepubliquedespyrenees.fr',\n",
       " 'civiweb.com',\n",
       " 'casinodrive.fr',\n",
       " 'varmatin.com',\n",
       " 'oney.fr',\n",
       " 'moncompteactivite.gouv.fr',\n",
       " 'verif.com',\n",
       " 'nrj-play.fr',\n",
       " 'petitfute.com',\n",
       " 'jazzradio.fr',\n",
       " 'fft.fr',\n",
       " 'cedeo.fr',\n",
       " 'dansnoscoeurs.fr',\n",
       " 'geoportail.gouv.fr',\n",
       " 'fonction-publique.gouv.fr',\n",
       " 'humanite.fr',\n",
       " 'cotemaison.fr',\n",
       " 'entea.fr',\n",
       " 'hubic.com',\n",
       " 'lunion.fr',\n",
       " 'marieclaire.fr',\n",
       " 'usine-digitale.fr',\n",
       " 'monde-diplomatique.fr',\n",
       " 'atinternet-solutions.com',\n",
       " 'amundi-ee.com',\n",
       " 'meilleurtaux.com',\n",
       " 'go-sport.com',\n",
       " 'billetreduc.com',\n",
       " 'maaf.fr',\n",
       " 'elle.fr',\n",
       " 'service-civique.gouv.fr',\n",
       " 'artstation.com',\n",
       " 'digitick.com',\n",
       " 'games-workshop.com',\n",
       " 'uniondht.org',\n",
       " 'lesoir.be',\n",
       " 'allegro.pl',\n",
       " 'kooora.com',\n",
       " 'hvg.hu',\n",
       " 'olx.ua',\n",
       " nan,\n",
       " 'transfermarkt.de',\n",
       " 'sovendus.com',\n",
       " 'baumschule-horstmann.de',\n",
       " 'pornpics.com',\n",
       " 'technikboerse.com',\n",
       " 'lieferheld.de',\n",
       " 'berge-meer.de',\n",
       " 'vistaprint.de',\n",
       " 'contorion.de',\n",
       " 'worldofwarcraft.com',\n",
       " 'ao.de',\n",
       " 'bringmeister.de',\n",
       " 'gayporno.fm',\n",
       " 'marathonbet.com',\n",
       " 'futhead.com',\n",
       " 'tommy.com',\n",
       " 'pornerbros.com',\n",
       " 'allposters.de',\n",
       " 'weightwatchers.de',\n",
       " 'wize.life',\n",
       " 'ebay.fr',\n",
       " 'daytradingaid.com',\n",
       " 'epochtimes.de',\n",
       " 'tichyseinblick.de',\n",
       " 'abendzeitung-muenchen.de',\n",
       " 'rambler.ru',\n",
       " 'serienjunkies.de',\n",
       " 'krone.at',\n",
       " 'unfassbar.es',\n",
       " 'boerse-online.de',\n",
       " 'motorsport-total.com',\n",
       " 'gutscheinexxl.de',\n",
       " 'queer.de',\n",
       " 'com-magazin.de',\n",
       " 'ka-news.de',\n",
       " 'fnp.de',\n",
       " 'cinemaxxl.de',\n",
       " 'volksfreund.de',\n",
       " 'volksstimme.de',\n",
       " 'lr-online.de',\n",
       " 'pctipp.ch',\n",
       " 'mittelbayerische.de',\n",
       " 'kanald.com.tr',\n",
       " 'e-radio.gr',\n",
       " 'karanpc.com',\n",
       " 'reifendirekt.de',\n",
       " 'urlaubspiraten.de',\n",
       " 'tui.com',\n",
       " 'urlaubsguru.de',\n",
       " 'catawiki.de',\n",
       " 'mctrek.de',\n",
       " 'dealdoktor.de',\n",
       " 'mister-auto.de',\n",
       " 'wir-machen-druck.de',\n",
       " 'pitstop.de',\n",
       " 'zamnesia.com',\n",
       " 'royalqueenseeds.de',\n",
       " 'giga-reifen.de',\n",
       " 'stoffundstil.de',\n",
       " 'wizzair.com',\n",
       " 'atu.de',\n",
       " 'beck-shop.de',\n",
       " 'memo.de',\n",
       " 'ateliergs.de',\n",
       " 'vivobarefoot.de',\n",
       " 'mytime.de',\n",
       " 'vfg.com',\n",
       " 'golfhouse.de',\n",
       " 'bio-apo.de',\n",
       " 'immobilienscout24.de',\n",
       " 'washingtonpost.com',\n",
       " 'swoodoo.com',\n",
       " 'elmundo.es',\n",
       " 'gettyimages.de',\n",
       " 'nba.com',\n",
       " 'diepresse.com',\n",
       " 'ricardo.ch',\n",
       " 'geizhals.eu',\n",
       " 'kayak.de',\n",
       " 'ft.com',\n",
       " 'peugeot.de',\n",
       " 'lastminute.de',\n",
       " 'myway.com',\n",
       " 'congstar.de',\n",
       " 'kfzteile24.de',\n",
       " 'globetrotter.de',\n",
       " 'cyberport.de',\n",
       " 'waschbaer.de',\n",
       " 'atlasformen.de',\n",
       " 'schuhcenter.de',\n",
       " 'orsay.com',\n",
       " 'noz.de',\n",
       " 'sanicare.de',\n",
       " 'karstadt.de',\n",
       " 'norma24.de',\n",
       " 'teufel.de',\n",
       " 'tirendo.de',\n",
       " 'adlermode.com',\n",
       " 'united-domains.de',\n",
       " 'xxxlutz.de',\n",
       " 'hellweg.de',\n",
       " 'parfumdreams.de',\n",
       " 'holidaycheck.de',\n",
       " 'lucky-bike.de',\n",
       " 'quelle.de',\n",
       " 'vivara.de',\n",
       " 'moemax.de',\n",
       " 'ideenmitherz.de',\n",
       " 'bofrost.de',\n",
       " 'autoteile24.de',\n",
       " 'forever21.com',\n",
       " 'medizinfuchs.de',\n",
       " 'outlet46.de',\n",
       " 'fleurop.de',\n",
       " 'connox.de',\n",
       " 'sonderpreis-baumarkt.de',\n",
       " 'closeup.de',\n",
       " 'zurrose.de',\n",
       " 'bestwestern.de',\n",
       " 'medion.com',\n",
       " 'restposten.de',\n",
       " 'derstandard.at',\n",
       " 'willhaben.at',\n",
       " 'geizhals.at',\n",
       " 'feratel.com',\n",
       " 'gfycat.com',\n",
       " 'pi-news.net',\n",
       " 'toluna.com',\n",
       " 'turnthispage.com',\n",
       " 'beverlylikehills.com',\n",
       " 'prospekt-angebote.com',\n",
       " 'automotivemechs.com',\n",
       " 'stream-mdh.se',\n",
       " 'hdzog.com',\n",
       " 'pornq.com',\n",
       " 'thegay.com',\n",
       " 'sport-conrad.com',\n",
       " 'finanzen100.de',\n",
       " 'onlinevideoconverter.com',\n",
       " 'movie2k.ag',\n",
       " 'tipico.de',\n",
       " 'bwin.com',\n",
       " 'nike.com',\n",
       " 'tipico.com',\n",
       " 'thesaurus.com',\n",
       " 'sporcle.com',\n",
       " 'beatport.com',\n",
       " 'wigglesport.de',\n",
       " 'youporn.com',\n",
       " 'redtube.com',\n",
       " 'xhamster.com',\n",
       " 'xtube.com',\n",
       " 'tube8.com',\n",
       " 'extremetube.com',\n",
       " 'keezmovies.com',\n",
       " 'youporngay.com',\n",
       " 'talk-mailer.de',\n",
       " 'raetsel-hilfe.de',\n",
       " 'heuteporno.com',\n",
       " 'apornstories.com',\n",
       " 'sankakucomplex.com',\n",
       " 'justporno.sex',\n",
       " 'forumophilia.com',\n",
       " 'madchensex.com',\n",
       " 'mytubes.xyz',\n",
       " 'wildesporno.com',\n",
       " 'pornoheit.com',\n",
       " 'hot-sex-tube.com',\n",
       " 'asexstories.com',\n",
       " 'rulertube.com',\n",
       " 'jpg4.net',\n",
       " 'freeomovie.com',\n",
       " 'thehun.net',\n",
       " 'yourlust.com',\n",
       " 'simply-hentai.com',\n",
       " 'wetblog.org',\n",
       " 'avelip.com',\n",
       " 'xxxdan.com',\n",
       " 'fantasti.cc',\n",
       " 'imgspice.com',\n",
       " 'anyporn.com',\n",
       " 'bangporn.org',\n",
       " 'flashx.ws',\n",
       " 'pornhubdeutsch.org',\n",
       " 'wankoz.com',\n",
       " 'pervclips.com',\n",
       " 'imgrock.pw',\n",
       " 'boxof.porn',\n",
       " 'erofus.com',\n",
       " 'bobs-tube.com',\n",
       " 'linaxxx.com',\n",
       " 'pornicom.com',\n",
       " 'bobolike.com',\n",
       " 'maxdome.de',\n",
       " 'flaconi.de',\n",
       " '500px.com',\n",
       " 'couchsurfing.com',\n",
       " 'deinschrank.de',\n",
       " 'web.de',\n",
       " 'gmx.net',\n",
       " 'bild.de',\n",
       " 'n-tv.de',\n",
       " 'tagesschau.de',\n",
       " 'xing.com',\n",
       " 'wetteronline.de',\n",
       " 'freenet.de',\n",
       " 'chefkoch.de',\n",
       " 'wetter.com',\n",
       " 'idealo.de',\n",
       " 'twitch.tv',\n",
       " 'finanzen.net',\n",
       " '1und1.de',\n",
       " 'stern.de',\n",
       " 'golem.de',\n",
       " 'immonet.de',\n",
       " 'ard.de',\n",
       " 'ndr.de',\n",
       " 'meinestadt.de',\n",
       " 'tvspielfilm.de',\n",
       " 'motor-talk.de',\n",
       " 'stepstone.de',\n",
       " 'gutefrage.net',\n",
       " 'daserste.de',\n",
       " 'duden.de',\n",
       " 'wetter.de',\n",
       " 'onvista.de',\n",
       " 'ardmediathek.de',\n",
       " 'geizhals.de',\n",
       " 'computerbase.de',\n",
       " 'sport1.de',\n",
       " 'ariva.de',\n",
       " 'markt.de',\n",
       " 'gamestar.de',\n",
       " 'autoscout24.de',\n",
       " 'fupa.net',\n",
       " 'tagesspiegel.de',\n",
       " 'dasoertliche.de',\n",
       " 'br.de',\n",
       " 'parship.de',\n",
       " 'wdr.de',\n",
       " 'sportschau.de',\n",
       " 'express.de',\n",
       " 'telekom.de',\n",
       " 'wallstreet-online.de',\n",
       " 'handelsblatt.com',\n",
       " 'ladies.de',\n",
       " 'berlin.de',\n",
       " 'mopo.de',\n",
       " 'testberichte.de',\n",
       " 'rp-online.de',\n",
       " 'dastelefonbuch.de',\n",
       " 'swr.de',\n",
       " 'pcwelt.de',\n",
       " 'jameda.de',\n",
       " 'mdr.de',\n",
       " 'tvnow.de',\n",
       " 'taz.de',\n",
       " 'bunte.de',\n",
       " 'tz.de',\n",
       " 'pcgameshardware.de',\n",
       " 'manager-magazin.de',\n",
       " 'merkur.de',\n",
       " 'ksta.de',\n",
       " 'vodafone.de',\n",
       " 'giga.de',\n",
       " 'winfuture.de',\n",
       " 'nordbayern.de',\n",
       " 'shop-apotheke.com',\n",
       " 'mtb-news.de',\n",
       " 'elitepartner.de',\n",
       " 'stayfriends.de',\n",
       " 'filmstarts.de',\n",
       " 'badische-zeitung.de',\n",
       " 'moviepilot.de',\n",
       " 'bento.de',\n",
       " 'brigitte.de',\n",
       " 'finanztreff.de',\n",
       " 'arcor.de',\n",
       " 'hifi-forum.de',\n",
       " 'presseportal.de',\n",
       " 'hna.de',\n",
       " 'autobild.de',\n",
       " 'doccheck.com',\n",
       " 'outdooractive.com',\n",
       " 'spektrum.de',\n",
       " 'gala.de',\n",
       " 'hessenschau.de',\n",
       " 'clever-tanken.de',\n",
       " 'finanznachrichten.de',\n",
       " 'spox.com',\n",
       " 'mytischtennis.de',\n",
       " 'bvg.de',\n",
       " 'kino.de',\n",
       " 'watchbox.de',\n",
       " 'hoerzu.de',\n",
       " 'sport.de',\n",
       " 'huffingtonpost.de',\n",
       " 'fr.de',\n",
       " 'billiger.de',\n",
       " 'shpock.com',\n",
       " 'morgenpost.de',\n",
       " 'stuttgarter-zeitung.de',\n",
       " 'apotheken-umschau.de',\n",
       " 'derwesten.de',\n",
       " '3sat.de',\n",
       " 'waz.de',\n",
       " 'songtexte.com',\n",
       " 'abendblatt.de',\n",
       " 'bfv.de',\n",
       " 'hamburg.de',\n",
       " 'kalaydo.de',\n",
       " 'bz-berlin.de',\n",
       " 'sz-online.de',\n",
       " 'bpb.de',\n",
       " 'kimeta.de',\n",
       " 'mainpost.de',\n",
       " 'mz-web.de',\n",
       " 'berliner-zeitung.de',\n",
       " 'jungefreiheit.de',\n",
       " 'mein-schoener-garten.de',\n",
       " 'fewo-direkt.de',\n",
       " 't3n.de',\n",
       " 'webfail.com',\n",
       " 'deutschlandfunk.de',\n",
       " 'prosieben.de',\n",
       " 'tvtv.de',\n",
       " '7tv.de',\n",
       " 'weltfussball.de',\n",
       " 'testedich.de',\n",
       " 'spielaffe.de',\n",
       " 'pietsmiet.de',\n",
       " 'fluege.de',\n",
       " 'gelbeseiten.de',\n",
       " 'truckscout24.de',\n",
       " 'fddb.info',\n",
       " 'tvtoday.de',\n",
       " 'auto-motor-und-sport.de',\n",
       " 'pc-magazin.de',\n",
       " 'kachelmannwetter.com',\n",
       " 'rtl.de',\n",
       " 'teltarif.de',\n",
       " 'wiwo.de',\n",
       " 'tvmovie.de',\n",
       " 'reviersport.de',\n",
       " 'rhein-zeitung.de',\n",
       " 'toggo.de',\n",
       " 'southpark.de',\n",
       " 'shz.de',\n",
       " 'ofdb.de',\n",
       " 'wieistmeineip.de',\n",
       " 'boerse-stuttgart.de',\n",
       " 'pnp.de',\n",
       " 'kununu.com',\n",
       " 'deine-tierwelt.de',\n",
       " 'kochbar.de',\n",
       " 'essen-und-trinken.de',\n",
       " 'haz.de',\n",
       " 'kaufda.de',\n",
       " 'pcgames.de',\n",
       " ...]"
      ]
     },
     "execution_count": 90,
     "metadata": {},
     "output_type": "execute_result"
    }
   ],
   "source": [
    "(list(trackers_df[trackers_df.bad_qs > 0.1].site.unique()))"
   ]
  },
  {
   "cell_type": "code",
   "execution_count": 81,
   "metadata": {},
   "outputs": [
    {
     "data": {
      "text/plain": [
       "1140"
      ]
     },
     "execution_count": 81,
     "metadata": {},
     "output_type": "execute_result"
    }
   ],
   "source": [
    "sites_df.tracker.nunique()"
   ]
  },
  {
   "cell_type": "code",
   "execution_count": 82,
   "metadata": {},
   "outputs": [
    {
     "data": {
      "text/plain": [
       "1140"
      ]
     },
     "execution_count": 82,
     "metadata": {},
     "output_type": "execute_result"
    }
   ],
   "source": [
    "sites_trackers_df.tracker.nunique()"
   ]
  },
  {
   "cell_type": "code",
   "execution_count": 110,
   "metadata": {
    "scrolled": true
   },
   "outputs": [
    {
     "data": {
      "text/plain": [
       "['247-inc.net', '2o7.net', '33across.com', '51.la', 'aamsitecertifier.com']"
      ]
     },
     "execution_count": 110,
     "metadata": {},
     "output_type": "execute_result"
    }
   ],
   "source": [
    "fingerprinting_trackers = sorted(list(domains_df[domains_df.bad_qs > 0.1].host_tld.unique()))\n",
    "fingerprinting_trackers[0:5]"
   ]
  },
  {
   "cell_type": "code",
   "execution_count": 111,
   "metadata": {},
   "outputs": [
    {
     "data": {
      "text/plain": [
       "292"
      ]
     },
     "execution_count": 111,
     "metadata": {},
     "output_type": "execute_result"
    }
   ],
   "source": [
    "len(fingerprinting_trackers)"
   ]
  },
  {
   "cell_type": "code",
   "execution_count": 114,
   "metadata": {},
   "outputs": [],
   "source": [
    "with open('/home/bird/Dev/mozilla/overscripted-clustering/tests/whotracksme/fingerprinting_trackers.json', 'w') as f:\n",
    "    f.write(json.dumps(fingerprinting_trackers))"
   ]
  },
  {
   "cell_type": "code",
   "execution_count": 129,
   "metadata": {},
   "outputs": [
    {
     "data": {
      "text/plain": [
       "{'de', 'eu', 'fr', 'global', 'us'}"
      ]
     },
     "execution_count": 129,
     "metadata": {},
     "output_type": "execute_result"
    }
   ],
   "source": [
    "regions"
   ]
  },
  {
   "cell_type": "code",
   "execution_count": 134,
   "metadata": {},
   "outputs": [
    {
     "name": "stdout",
     "output_type": "stream",
     "text": [
      "data available for months:\n",
      "├── 2018-04\n",
      "├── 2018-05\n",
      "├── 2018-06\n",
      "├── 2018-07\n",
      "├── 2018-08\n",
      "├── 2018-09\n"
     ]
    },
    {
     "name": "stderr",
     "output_type": "stream",
     "text": [
      "/home/bird/Dev/misc-clones/whotracks.me/whotracksme/data/loader.py:99: FutureWarning: Sorting because non-concatenation axis is not aligned. A future version\n",
      "of pandas will change to not sort by default.\n",
      "\n",
      "To accept the future behavior, pass 'sort=False'.\n",
      "\n",
      "To retain the current behavior and silence the warning, pass 'sort=True'.\n",
      "\n",
      "  for month in data_months\n"
     ]
    },
    {
     "name": "stdout",
     "output_type": "stream",
     "text": [
      "fr 12\n",
      "data available for months:\n",
      "├── 2018-04\n",
      "├── 2018-05\n",
      "├── 2018-06\n",
      "├── 2018-07\n",
      "├── 2018-08\n",
      "├── 2018-09\n",
      "de 39\n",
      "data available for months:\n",
      "├── 2018-03\n",
      "├── 2018-04\n",
      "├── 2018-05\n",
      "├── 2018-06\n",
      "├── 2018-07\n",
      "├── 2018-08\n",
      "├── 2018-09\n",
      "eu 64\n",
      "data available for months:\n",
      "├── 2018-04\n",
      "├── 2018-05\n",
      "├── 2018-06\n",
      "├── 2018-07\n",
      "├── 2018-08\n",
      "├── 2018-09\n",
      "us 32\n",
      "data available for months:\n",
      "├── 2017-05\n",
      "├── 2017-06\n",
      "├── 2017-07\n",
      "├── 2017-08\n",
      "├── 2017-09\n",
      "├── 2017-10\n",
      "├── 2017-11\n",
      "├── 2017-12\n",
      "├── 2018-01\n",
      "├── 2018-02\n",
      "├── 2018-03\n",
      "├── 2018-04\n",
      "├── 2018-05\n",
      "├── 2018-06\n",
      "├── 2018-07\n",
      "├── 2018-08\n",
      "├── 2018-09\n",
      "global 186\n"
     ]
    }
   ],
   "source": [
    "fp_trackers = set()\n",
    "for region in regions:\n",
    "    who_tracks_data = DataSource(region=region)\n",
    "    who_tracks_fp = who_tracks_data.trackers.df[who_tracks_data.trackers.df.bad_qs > 0.1]\n",
    "    print(region, who_tracks_fp.tracker.nunique())\n",
    "    fp_trackers.update(list(who_tracks_fp.tracker.values))"
   ]
  },
  {
   "cell_type": "code",
   "execution_count": 135,
   "metadata": {},
   "outputs": [
    {
     "data": {
      "text/plain": [
       "193"
      ]
     },
     "execution_count": 135,
     "metadata": {},
     "output_type": "execute_result"
    }
   ],
   "source": [
    "len(fp_trackers)"
   ]
  },
  {
   "cell_type": "code",
   "execution_count": 145,
   "metadata": {},
   "outputs": [
    {
     "data": {
      "text/plain": [
       "True"
      ]
     },
     "execution_count": 145,
     "metadata": {},
     "output_type": "execute_result"
    }
   ],
   "source": [
    "np.all(who_tracks_fp.id == who_tracks_fp.tracker)"
   ]
  },
  {
   "cell_type": "markdown",
   "metadata": {},
   "source": [
    "This is less than what we ended up with when we built data ourselves.\n",
    "\n",
    "Bit there we were building hosts."
   ]
  },
  {
   "cell_type": "code",
   "execution_count": 151,
   "metadata": {},
   "outputs": [
    {
     "data": {
      "text/plain": [
       "{'id': 'infonline',\n",
       " 'name': 'INFOnline',\n",
       " 'category': 'site_analytics',\n",
       " 'website_url': 'http://www.infonline.de/',\n",
       " 'ghostery_id': '223',\n",
       " 'company_id': 'infonline',\n",
       " 'iab_vendor': None,\n",
       " 'truste_type': None,\n",
       " 'description': None,\n",
       " 'privacy_url': 'https://www.infonline.de/datenschutz/',\n",
       " 'domains': ['ioam.de', 'iocnt.net', 'ivwbox.de']}"
      ]
     },
     "execution_count": 151,
     "metadata": {},
     "output_type": "execute_result"
    }
   ],
   "source": [
    "tracker_info['trackers'][list(fp_trackers)[33]]"
   ]
  },
  {
   "cell_type": "code",
   "execution_count": 154,
   "metadata": {},
   "outputs": [],
   "source": [
    "could_not_find = []\n",
    "domains = set()\n",
    "for tracker in fp_trackers:\n",
    "    try:\n",
    "        domains.update(tracker_info['trackers'][tracker]['domains'])\n",
    "    except KeyError:\n",
    "        could_not_find.append(tracker)"
   ]
  },
  {
   "cell_type": "code",
   "execution_count": 156,
   "metadata": {},
   "outputs": [
    {
     "data": {
      "text/plain": [
       "['marketgrid']"
      ]
     },
     "execution_count": 156,
     "metadata": {},
     "output_type": "execute_result"
    }
   ],
   "source": [
    "could_not_find"
   ]
  },
  {
   "cell_type": "code",
   "execution_count": 157,
   "metadata": {},
   "outputs": [
    {
     "data": {
      "text/plain": [
       "326"
      ]
     },
     "execution_count": 157,
     "metadata": {},
     "output_type": "execute_result"
    }
   ],
   "source": [
    "len(list(domains))"
   ]
  },
  {
   "cell_type": "code",
   "execution_count": null,
   "metadata": {},
   "outputs": [],
   "source": []
  }
 ],
 "metadata": {
  "kernelspec": {
   "display_name": "Python 3",
   "language": "python",
   "name": "python3"
  },
  "language_info": {
   "codemirror_mode": {
    "name": "ipython",
    "version": 3
   },
   "file_extension": ".py",
   "mimetype": "text/x-python",
   "name": "python",
   "nbconvert_exporter": "python",
   "pygments_lexer": "ipython3",
   "version": "3.6.6"
  }
 },
 "nbformat": 4,
 "nbformat_minor": 2
}
