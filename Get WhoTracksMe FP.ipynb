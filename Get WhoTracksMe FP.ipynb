{
 "cells": [
  {
   "cell_type": "code",
   "execution_count": 1,
   "metadata": {},
   "outputs": [],
   "source": [
    "import json\n",
    "import numpy as np\n",
    "import pandas as pd\n",
    "from os import listdir, path\n",
    "from collections import defaultdict, Counter"
   ]
  },
  {
   "cell_type": "code",
   "execution_count": 2,
   "metadata": {},
   "outputs": [],
   "source": [
    "asset_root = 'whotracksme/data/assets'\n",
    "regions = set()\n",
    "months = set()\n",
    "file_names = set()\n",
    "asset_paths = defaultdict(list)"
   ]
  },
  {
   "cell_type": "code",
   "execution_count": 3,
   "metadata": {},
   "outputs": [
    {
     "data": {
      "text/plain": [
       "{'2017-05',\n",
       " '2017-06',\n",
       " '2017-07',\n",
       " '2017-08',\n",
       " '2017-09',\n",
       " '2017-10',\n",
       " '2017-11',\n",
       " '2017-12',\n",
       " '2018-01',\n",
       " '2018-02',\n",
       " '2018-03',\n",
       " '2018-04',\n",
       " '2018-05',\n",
       " '2018-06',\n",
       " '2018-07',\n",
       " '2018-08',\n",
       " '2018-09'}"
      ]
     },
     "execution_count": 3,
     "metadata": {},
     "output_type": "execute_result"
    }
   ],
   "source": [
    "for d in listdir(asset_root):\n",
    "    if path.isdir(path.join(asset_root, d)):\n",
    "        months.add(d)\n",
    "months"
   ]
  },
  {
   "cell_type": "code",
   "execution_count": 4,
   "metadata": {},
   "outputs": [
    {
     "data": {
      "text/plain": [
       "{'de', 'eu', 'fr', 'global', 'us'}"
      ]
     },
     "execution_count": 4,
     "metadata": {},
     "output_type": "execute_result"
    }
   ],
   "source": [
    "for month in months:\n",
    "    month_path = path.join(asset_root, month)\n",
    "    for d in listdir(month_path):\n",
    "        if path.isdir(path.join(month_path, d)):\n",
    "            regions.add(d)\n",
    "regions"
   ]
  },
  {
   "cell_type": "code",
   "execution_count": 5,
   "metadata": {},
   "outputs": [
    {
     "data": {
      "text/plain": [
       "{'companies.csv',\n",
       " 'domains.csv',\n",
       " 'sites.csv',\n",
       " 'sites_trackers.csv',\n",
       " 'trackers.csv'}"
      ]
     },
     "execution_count": 5,
     "metadata": {},
     "output_type": "execute_result"
    }
   ],
   "source": [
    "for month in months:\n",
    "    for region in regions:\n",
    "        end_path = path.join(asset_root, month, region)\n",
    "        if path.isdir(end_path):\n",
    "            for file in listdir(end_path):\n",
    "                file_names.add(file)\n",
    "file_names"
   ]
  },
  {
   "cell_type": "code",
   "execution_count": 6,
   "metadata": {},
   "outputs": [
    {
     "name": "stdout",
     "output_type": "stream",
     "text": [
      "companies 42\n",
      "domains 42\n",
      "sites 84\n",
      "sites_trackers 42\n",
      "trackers 84\n"
     ]
    }
   ],
   "source": [
    "asset_types = ['companies', 'domains', 'sites', 'sites_trackers', 'trackers']\n",
    "for month in months:\n",
    "    for region in regions:\n",
    "        end_path = path.join(asset_root, month, region)\n",
    "        if path.isdir(end_path):\n",
    "            for file in listdir(end_path):\n",
    "                for asset_type in asset_types:\n",
    "                    if asset_type in file:\n",
    "                        asset_paths[asset_type].append(path.join(end_path, file))\n",
    "for asset_type in asset_types:\n",
    "    print(asset_type, len(asset_paths[asset_type]))"
   ]
  },
  {
   "cell_type": "code",
   "execution_count": 7,
   "metadata": {},
   "outputs": [
    {
     "name": "stdout",
     "output_type": "stream",
     "text": [
      "whotracksme/data/assets/2018-03/eu/companies.csv 21,015\n",
      "whotracksme/data/assets/2018-03/eu/domains.csv 37,606\n",
      "whotracksme/data/assets/2018-03/eu/sites.csv 1,632,769\n",
      "whotracksme/data/assets/2018-03/eu/sites_trackers.csv 1,573,799\n",
      "whotracksme/data/assets/2018-03/eu/trackers.csv 1,599,747\n"
     ]
    }
   ],
   "source": [
    "for asset_type in asset_types:\n",
    "    file_lengths = []\n",
    "    for asset_path in asset_paths[asset_type]:\n",
    "        num_lines = sum(1 for line in open(asset_path))\n",
    "        file_lengths.append(num_lines)\n",
    "    print(asset_path, f'{sum(file_lengths):,}')"
   ]
  },
  {
   "cell_type": "markdown",
   "metadata": {},
   "source": [
    "But actually, for our purposes, we want domains: https://github.com/cliqz-oss/whotracks.me/issues/125"
   ]
  },
  {
   "cell_type": "code",
   "execution_count": 8,
   "metadata": {},
   "outputs": [
    {
     "data": {
      "text/html": [
       "<div>\n",
       "<style scoped>\n",
       "    .dataframe tbody tr th:only-of-type {\n",
       "        vertical-align: middle;\n",
       "    }\n",
       "\n",
       "    .dataframe tbody tr th {\n",
       "        vertical-align: top;\n",
       "    }\n",
       "\n",
       "    .dataframe thead th {\n",
       "        text-align: right;\n",
       "    }\n",
       "</style>\n",
       "<table border=\"1\" class=\"dataframe\">\n",
       "  <thead>\n",
       "    <tr style=\"text-align: right;\">\n",
       "      <th></th>\n",
       "      <th>bad_qs</th>\n",
       "      <th>beacon</th>\n",
       "      <th>companies</th>\n",
       "      <th>content_length</th>\n",
       "      <th>cookies</th>\n",
       "      <th>country</th>\n",
       "      <th>font</th>\n",
       "      <th>has_blocking</th>\n",
       "      <th>host_tld</th>\n",
       "      <th>hosts</th>\n",
       "      <th>...</th>\n",
       "      <th>requests</th>\n",
       "      <th>requests_failed</th>\n",
       "      <th>requests_tracking</th>\n",
       "      <th>script</th>\n",
       "      <th>site_reach</th>\n",
       "      <th>site_reach_rank</th>\n",
       "      <th>stylesheet</th>\n",
       "      <th>tracked</th>\n",
       "      <th>trackers</th>\n",
       "      <th>xhr</th>\n",
       "    </tr>\n",
       "  </thead>\n",
       "  <tbody>\n",
       "    <tr>\n",
       "      <th>0</th>\n",
       "      <td>0.324662</td>\n",
       "      <td>0.079969</td>\n",
       "      <td>1.0</td>\n",
       "      <td>1.372692e+04</td>\n",
       "      <td>0.002000</td>\n",
       "      <td>global</td>\n",
       "      <td>0.000000e+00</td>\n",
       "      <td>0.0</td>\n",
       "      <td>google-analytics.com</td>\n",
       "      <td>1.0</td>\n",
       "      <td>...</td>\n",
       "      <td>4.231643</td>\n",
       "      <td>0.318025</td>\n",
       "      <td>0.952961</td>\n",
       "      <td>0.983787</td>\n",
       "      <td>0.749662</td>\n",
       "      <td>1</td>\n",
       "      <td>1.680424e-07</td>\n",
       "      <td>0.325810</td>\n",
       "      <td>1.00000</td>\n",
       "      <td>0.002529</td>\n",
       "    </tr>\n",
       "    <tr>\n",
       "      <th>1</th>\n",
       "      <td>0.013944</td>\n",
       "      <td>0.002800</td>\n",
       "      <td>1.0</td>\n",
       "      <td>1.365321e+06</td>\n",
       "      <td>0.956131</td>\n",
       "      <td>global</td>\n",
       "      <td>7.631806e-08</td>\n",
       "      <td>0.0</td>\n",
       "      <td>google.com</td>\n",
       "      <td>1.0</td>\n",
       "      <td>...</td>\n",
       "      <td>7.782970</td>\n",
       "      <td>0.647582</td>\n",
       "      <td>7.490663</td>\n",
       "      <td>0.644835</td>\n",
       "      <td>0.553807</td>\n",
       "      <td>5</td>\n",
       "      <td>4.151588e-02</td>\n",
       "      <td>0.956558</td>\n",
       "      <td>1.00000</td>\n",
       "      <td>0.119335</td>\n",
       "    </tr>\n",
       "    <tr>\n",
       "      <th>2</th>\n",
       "      <td>0.081903</td>\n",
       "      <td>0.000055</td>\n",
       "      <td>1.0</td>\n",
       "      <td>5.497946e+04</td>\n",
       "      <td>0.894208</td>\n",
       "      <td>global</td>\n",
       "      <td>5.040725e-06</td>\n",
       "      <td>0.0</td>\n",
       "      <td>doubleclick.net</td>\n",
       "      <td>1.0</td>\n",
       "      <td>...</td>\n",
       "      <td>7.878777</td>\n",
       "      <td>0.407675</td>\n",
       "      <td>7.813173</td>\n",
       "      <td>0.529167</td>\n",
       "      <td>0.558613</td>\n",
       "      <td>4</td>\n",
       "      <td>7.268649e-05</td>\n",
       "      <td>0.895765</td>\n",
       "      <td>1.00000</td>\n",
       "      <td>0.086950</td>\n",
       "    </tr>\n",
       "    <tr>\n",
       "      <th>3</th>\n",
       "      <td>0.000671</td>\n",
       "      <td>0.000000</td>\n",
       "      <td>1.0</td>\n",
       "      <td>2.288928e+05</td>\n",
       "      <td>0.002573</td>\n",
       "      <td>global</td>\n",
       "      <td>9.322723e-05</td>\n",
       "      <td>0.0</td>\n",
       "      <td>googleapis.com</td>\n",
       "      <td>1.0</td>\n",
       "      <td>...</td>\n",
       "      <td>5.070778</td>\n",
       "      <td>0.615104</td>\n",
       "      <td>0.046123</td>\n",
       "      <td>0.488916</td>\n",
       "      <td>0.706873</td>\n",
       "      <td>2</td>\n",
       "      <td>7.194772e-01</td>\n",
       "      <td>0.003242</td>\n",
       "      <td>1.25111</td>\n",
       "      <td>0.029339</td>\n",
       "    </tr>\n",
       "    <tr>\n",
       "      <th>4</th>\n",
       "      <td>0.000739</td>\n",
       "      <td>0.021324</td>\n",
       "      <td>1.0</td>\n",
       "      <td>1.092162e+05</td>\n",
       "      <td>0.271632</td>\n",
       "      <td>global</td>\n",
       "      <td>4.240526e-01</td>\n",
       "      <td>0.0</td>\n",
       "      <td>gstatic.com</td>\n",
       "      <td>1.0</td>\n",
       "      <td>...</td>\n",
       "      <td>9.226768</td>\n",
       "      <td>0.505585</td>\n",
       "      <td>2.643849</td>\n",
       "      <td>0.546439</td>\n",
       "      <td>0.597873</td>\n",
       "      <td>3</td>\n",
       "      <td>6.435847e-02</td>\n",
       "      <td>0.272065</td>\n",
       "      <td>1.00000</td>\n",
       "      <td>0.024668</td>\n",
       "    </tr>\n",
       "  </tbody>\n",
       "</table>\n",
       "<p>5 rows × 31 columns</p>\n",
       "</div>"
      ],
      "text/plain": [
       "     bad_qs    beacon  companies  content_length   cookies country  \\\n",
       "0  0.324662  0.079969        1.0    1.372692e+04  0.002000  global   \n",
       "1  0.013944  0.002800        1.0    1.365321e+06  0.956131  global   \n",
       "2  0.081903  0.000055        1.0    5.497946e+04  0.894208  global   \n",
       "3  0.000671  0.000000        1.0    2.288928e+05  0.002573  global   \n",
       "4  0.000739  0.021324        1.0    1.092162e+05  0.271632  global   \n",
       "\n",
       "           font  has_blocking              host_tld  hosts    ...     \\\n",
       "0  0.000000e+00           0.0  google-analytics.com    1.0    ...      \n",
       "1  7.631806e-08           0.0            google.com    1.0    ...      \n",
       "2  5.040725e-06           0.0       doubleclick.net    1.0    ...      \n",
       "3  9.322723e-05           0.0        googleapis.com    1.0    ...      \n",
       "4  4.240526e-01           0.0           gstatic.com    1.0    ...      \n",
       "\n",
       "   requests  requests_failed  requests_tracking    script site_reach  \\\n",
       "0  4.231643         0.318025           0.952961  0.983787   0.749662   \n",
       "1  7.782970         0.647582           7.490663  0.644835   0.553807   \n",
       "2  7.878777         0.407675           7.813173  0.529167   0.558613   \n",
       "3  5.070778         0.615104           0.046123  0.488916   0.706873   \n",
       "4  9.226768         0.505585           2.643849  0.546439   0.597873   \n",
       "\n",
       "   site_reach_rank    stylesheet   tracked  trackers       xhr  \n",
       "0                1  1.680424e-07  0.325810   1.00000  0.002529  \n",
       "1                5  4.151588e-02  0.956558   1.00000  0.119335  \n",
       "2                4  7.268649e-05  0.895765   1.00000  0.086950  \n",
       "3                2  7.194772e-01  0.003242   1.25111  0.029339  \n",
       "4                3  6.435847e-02  0.272065   1.00000  0.024668  \n",
       "\n",
       "[5 rows x 31 columns]"
      ]
     },
     "execution_count": 8,
     "metadata": {},
     "output_type": "execute_result"
    }
   ],
   "source": [
    "domains_df = pd.concat([\n",
    "    pd.read_csv(file, parse_dates=['month'])\n",
    "    for file in asset_paths['domains']\n",
    "])\n",
    "domains_df.head()"
   ]
  },
  {
   "cell_type": "code",
   "execution_count": 9,
   "metadata": {},
   "outputs": [
    {
     "name": "stdout",
     "output_type": "stream",
     "text": [
      "292\n"
     ]
    }
   ],
   "source": [
    "bad_hosts = domains_df[domains_df.bad_qs > 0.1].host_tld\n",
    "print(bad_hosts.nunique())"
   ]
  },
  {
   "cell_type": "code",
   "execution_count": 10,
   "metadata": {},
   "outputs": [
    {
     "name": "stdout",
     "output_type": "stream",
     "text": [
      "2094\n"
     ]
    }
   ],
   "source": [
    "acceptable_hosts = domains_df[domains_df.bad_qs <= 0.1].host_tld\n",
    "print(acceptable_hosts.nunique())"
   ]
  },
  {
   "cell_type": "code",
   "execution_count": 11,
   "metadata": {},
   "outputs": [
    {
     "name": "stdout",
     "output_type": "stream",
     "text": [
      "0.0001 1411\n",
      "0.0004 1329\n",
      "0.0007 1286\n",
      "0.001 1248\n",
      "0.004 1084\n",
      "0.007 988\n",
      "0.01 908\n",
      "0.04 521\n",
      "0.07 361\n",
      "0.1 292\n",
      "0.4 76\n",
      "0.7 17\n",
      "1 0\n"
     ]
    }
   ],
   "source": [
    "thresholds = [0.0001, 0.0004, 0.0007, 0.001, 0.004, 0.007, 0.01, 0.04, 0.07, 0.1, 0.4, 0.7, 1]\n",
    "bad_hosts = {}\n",
    "acceptable_hosts = {}\n",
    "for threshold in thresholds:\n",
    "    bad = domains_df[domains_df.bad_qs > threshold].host_tld\n",
    "    bad_hosts[threshold] = list(bad.unique())\n",
    "    print(threshold, bad.nunique())\n",
    "    acceptable = domains_df[domains_df.bad_qs <= threshold].host_tld\n",
    "    acceptable_hosts[threshold] = list(acceptable.unique())"
   ]
  },
  {
   "cell_type": "code",
   "execution_count": 12,
   "metadata": {},
   "outputs": [],
   "source": [
    "with open('../../mozilla/overscripted-clustering/tests/whotracksme/fingerprinting_trackers.json', 'w') as f:\n",
    "    f.write(json.dumps(bad_hosts))\n",
    "    \n",
    "with open('../../mozilla/overscripted-clustering/tests/whotracksme/not_fingerprinting_trackers.json', 'w') as f:\n",
    "    f.write(json.dumps(acceptable_hosts))"
   ]
  },
  {
   "cell_type": "code",
   "execution_count": null,
   "metadata": {},
   "outputs": [],
   "source": []
  }
 ],
 "metadata": {
  "kernelspec": {
   "display_name": "Python 3",
   "language": "python",
   "name": "python3"
  },
  "language_info": {
   "codemirror_mode": {
    "name": "ipython",
    "version": 3
   },
   "file_extension": ".py",
   "mimetype": "text/x-python",
   "name": "python",
   "nbconvert_exporter": "python",
   "pygments_lexer": "ipython3",
   "version": "3.6.6"
  }
 },
 "nbformat": 4,
 "nbformat_minor": 2
}
